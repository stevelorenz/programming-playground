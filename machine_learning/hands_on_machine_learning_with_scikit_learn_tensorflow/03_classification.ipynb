{
 "cells": [
  {
   "cell_type": "code",
   "execution_count": 1,
   "metadata": {},
   "outputs": [],
   "source": [
    "import sys\n",
    "import sklearn\n",
    "\n",
    "assert sys.version_info >= (3, 5)\n",
    "\n",
    "IS_COLAB = \"google.colab\" in sys.modules\n",
    "IS_KAGGLE = \"kaggle_secrets\" in sys.modules\n",
    "\n",
    "assert sklearn.__version__ >= \"0.20\"\n",
    "\n",
    "import numpy as np\n",
    "import os\n",
    "\n",
    "np.random.seed(17)\n",
    "\n",
    "%matplotlib inline\n",
    "import matplotlib as mpl\n",
    "import matplotlib.pyplot as plt\n",
    "mpl.rc('axes', labelsize=14)\n",
    "mpl.rc('xtick', labelsize=12)\n",
    "mpl.rc('ytick', labelsize=12)\n"
   ]
  },
  {
   "cell_type": "code",
   "execution_count": 2,
   "metadata": {},
   "outputs": [
    {
     "data": {
      "text/plain": [
       "dict_keys(['data', 'target', 'frame', 'categories', 'feature_names', 'target_names', 'DESCR', 'details', 'url'])"
      ]
     },
     "execution_count": 2,
     "metadata": {},
     "output_type": "execute_result"
    }
   ],
   "source": [
    "from sklearn.datasets import fetch_openml\n",
    "mnist = fetch_openml(\"mnist_784\", version=1, as_frame=False)\n",
    "mnist.keys()"
   ]
  },
  {
   "cell_type": "code",
   "execution_count": 3,
   "metadata": {},
   "outputs": [
    {
     "name": "stdout",
     "output_type": "stream",
     "text": [
      "784\n",
      "5\n"
     ]
    },
    {
     "data": {
      "image/png": "[encoded data removed]",
      "text/plain": [
       "<Figure size 432x288 with 1 Axes>"
      ]
     },
     "metadata": {
      "needs_background": "light"
     },
     "output_type": "display_data"
    }
   ],
   "source": [
    "X, y = mnist[\"data\"], mnist[\"target\"]\n",
    "X.shape\n",
    "# Each image is 28 * 28 pixels\n",
    "print(X[0].size)\n",
    "print(y[0])\n",
    "\n",
    "some_digit = X[0]\n",
    "some_digit_image = some_digit.reshape(28, 28)\n",
    "plt.imshow(some_digit_image, cmap=mpl.cm.binary, interpolation=\"nearest\")\n",
    "plt.axis(\"off\")\n",
    "plt.show()"
   ]
  },
  {
   "cell_type": "code",
   "execution_count": 4,
   "metadata": {},
   "outputs": [
    {
     "name": "stdout",
     "output_type": "stream",
     "text": [
      "5\n"
     ]
    }
   ],
   "source": [
    "y = y.astype(np.uint8)\n",
    "print(y[0])\n",
    "\n",
    "TRAIN_SET_NUM = 60000\n",
    "X_train, X_test, y_train, y_test = (\n",
    "    X[:TRAIN_SET_NUM],\n",
    "    X[TRAIN_SET_NUM:],\n",
    "    y[:TRAIN_SET_NUM],\n",
    "    y[TRAIN_SET_NUM:],\n",
    ")\n"
   ]
  },
  {
   "cell_type": "code",
   "execution_count": 5,
   "metadata": {},
   "outputs": [],
   "source": [
    "y_train_5 = y_train == 5\n",
    "y_test_5 = y_test == 5\n",
    "\n",
    "from sklearn.linear_model import SGDClassifier\n",
    "\n",
    "sgd_clf = SGDClassifier(max_iter=1000, tol=1e-3, random_state=17)\n",
    "sgd_clf.fit(X_train, y_train_5)\n",
    "\n",
    "ret = sgd_clf.predict([some_digit])\n",
    "assert ret == [[True]]\n"
   ]
  },
  {
   "cell_type": "markdown",
   "metadata": {},
   "source": [
    "# Performance Evaluation"
   ]
  },
  {
   "cell_type": "code",
   "execution_count": 6,
   "metadata": {},
   "outputs": [
    {
     "name": "stdout",
     "output_type": "stream",
     "text": [
      "0.92\n",
      "0.9648\n",
      "0.9658\n"
     ]
    }
   ],
   "source": [
    "from sklearn.model_selection import StratifiedKFold\n",
    "from sklearn.base import clone\n",
    "\n",
    "skfolds = StratifiedKFold(n_splits=3, shuffle=True, random_state=17)\n",
    "for train_index, test_index in skfolds.split(X_train, y_train_5):\n",
    "\tclone_clf = clone(sgd_clf)\n",
    "\tX_train_folds = X_train[train_index]\n",
    "\ty_train_folds = y_train_5[train_index]\n",
    "\tX_test_fold = X_train[test_index]\n",
    "\ty_test_fold = y_train_5[test_index]\n",
    "\n",
    "\tclone_clf.fit(X_train_folds, y_train_folds)\n",
    "\ty_pred = clone_clf.predict(X_test_fold)\n",
    "\tn_correct = sum(y_pred == y_test_fold)\n",
    "\tprint(n_correct / len(y_pred))"
   ]
  },
  {
   "cell_type": "code",
   "execution_count": 7,
   "metadata": {},
   "outputs": [
    {
     "data": {
      "text/plain": [
       "array([0.96675, 0.9618 , 0.94425])"
      ]
     },
     "execution_count": 7,
     "metadata": {},
     "output_type": "execute_result"
    }
   ],
   "source": [
    "from sklearn.model_selection import cross_val_score\n",
    "\n",
    "cross_val_score(sgd_clf, X_train, y_train_5, cv=3, scoring=\"accuracy\")"
   ]
  },
  {
   "cell_type": "code",
   "execution_count": 8,
   "metadata": {},
   "outputs": [],
   "source": [
    "from sklearn.model_selection import cross_val_predict\n",
    "\n",
    "y_train_pred = cross_val_predict(sgd_clf, X_train, y_train_5, cv=3)"
   ]
  },
  {
   "cell_type": "code",
   "execution_count": 9,
   "metadata": {},
   "outputs": [
    {
     "name": "stdout",
     "output_type": "stream",
     "text": [
      "[[53936   643]\n",
      " [ 1901  3520]]\n"
     ]
    }
   ],
   "source": [
    "from sklearn.metrics import confusion_matrix\n",
    "\n",
    "conf_mat = confusion_matrix(y_train_5, y_train_pred)\n",
    "print(conf_mat)"
   ]
  },
  {
   "cell_type": "code",
   "execution_count": 10,
   "metadata": {},
   "outputs": [
    {
     "name": "stdout",
     "output_type": "stream",
     "text": [
      "0.8455440787893346\n",
      "0.6493266924921601\n",
      "f1 score: 0.7345575959933222\n"
     ]
    }
   ],
   "source": [
    "from sklearn.metrics import precision_score, recall_score\n",
    "\n",
    "prec_score = precision_score(y_train_5, y_train_pred)\n",
    "print(prec_score)\n",
    "reca_score = recall_score(y_train_5, y_train_pred)\n",
    "print(reca_score)\n",
    "\n",
    "from sklearn.metrics import f1_score\n",
    "f1_score = f1_score(y_train_5, y_train_pred)\n",
    "print(f\"f1 score: {f1_score}\")"
   ]
  },
  {
   "cell_type": "code",
   "execution_count": 11,
   "metadata": {},
   "outputs": [],
   "source": [
    "y_scores = cross_val_predict(\n",
    "    sgd_clf, X_train, y_train_5, cv=3, method=\"decision_function\"\n",
    ")\n",
    "from sklearn.metrics import precision_recall_curve\n",
    "\n",
    "precisions, recalls, thresholds = precision_recall_curve(y_train_5, y_scores)\n"
   ]
  },
  {
   "cell_type": "code",
   "execution_count": 12,
   "metadata": {},
   "outputs": [],
   "source": [
    "def plot_precision_recall_vs_threshold(precisions, recalls, thresholds):\n",
    "    plt.plot(thresholds, precisions[:-1], \"b--\", label=\"Precision\", linewidth=2)\n",
    "    plt.plot(thresholds, recalls[:-1], \"g-\", label=\"Recall\", linewidth=2)\n",
    "    plt.legend(loc=\"center right\", fontsize=16)  # Not shown in the book\n",
    "    plt.xlabel(\"Threshold\", fontsize=16)  # Not shown\n",
    "    plt.grid(True)  # Not shown\n",
    "    plt.axis([-50000, 50000, 0, 1])  # Not shown\n",
    "\n",
    "\n",
    "recall_90_precision = recalls[np.argmax(precisions >= 0.90)]\n",
    "threshold_90_precision = thresholds[np.argmax(precisions >= 0.90)]\n",
    "\n",
    "# plt.figure(figsize=(8, 4))  # Not shown\n",
    "# plot_precision_recall_vs_threshold(precisions, recalls, thresholds)\n",
    "# plt.plot(\n",
    "#     [threshold_90_precision, threshold_90_precision], [0.0, 0.9], \"r:\"\n",
    "# )  # Not shown\n",
    "# plt.plot([-50000, threshold_90_precision], [0.9, 0.9], \"r:\")  # Not shown\n",
    "# plt.plot(\n",
    "#     [-50000, threshold_90_precision], [recall_90_precision, recall_90_precision], \"r:\"\n",
    "# )  # Not shown\n",
    "# plt.plot([threshold_90_precision], [0.9], \"ro\")  # Not shown\n",
    "# plt.plot(\n",
    "#     [threshold_90_precision], [recall_90_precision], \"ro\"\n",
    "# )  # Not shown                                           # Not shown\n",
    "# plt.show()\n"
   ]
  },
  {
   "cell_type": "code",
   "execution_count": 13,
   "metadata": {},
   "outputs": [],
   "source": [
    "def plot_precision_vs_recall(precisions, recalls):\n",
    "    plt.plot(recalls, precisions, \"b-\", linewidth=2)\n",
    "    plt.xlabel(\"Recall\", fontsize=16)\n",
    "    plt.ylabel(\"Precision\", fontsize=16)\n",
    "    plt.axis([0, 1, 0, 1])\n",
    "    plt.grid(True)\n",
    "\n",
    "\n",
    "# plt.figure(figsize=(8, 6))\n",
    "# plot_precision_vs_recall(precisions, recalls)\n",
    "# plt.plot([recall_90_precision, recall_90_precision], [0.0, 0.9], \"r:\")\n",
    "# plt.plot([0.0, recall_90_precision], [0.9, 0.9], \"r:\")\n",
    "# plt.plot([recall_90_precision], [0.9], \"ro\")\n",
    "\n",
    "# plt.show()\n"
   ]
  },
  {
   "cell_type": "code",
   "execution_count": 18,
   "metadata": {},
   "outputs": [
    {
     "name": "stdout",
     "output_type": "stream",
     "text": [
      "1854.5025990559493\n",
      "Precision: 0.9001214329083181\n",
      "Recall: 0.5469470577384247\n"
     ]
    }
   ],
   "source": [
    "threshold_90_precision = thresholds[np.argmax(precisions >= 0.90)]\n",
    "print(threshold_90_precision)\n",
    "\n",
    "y_train_pred_90 = y_scores >= threshold_90_precision\n",
    "\n",
    "ret = precision_score(y_train_5, y_train_pred_90)\n",
    "print(f\"Precision: {ret}\")\n",
    "\n",
    "ret = recall_score(y_train_5, y_train_pred_90)\n",
    "print(f\"Recall: {ret}\")"
   ]
  },
  {
   "cell_type": "code",
   "execution_count": 21,
   "metadata": {},
   "outputs": [
    {
     "name": "stdout",
     "output_type": "stream",
     "text": [
      "[5]\n",
      "[[ 2.81585438  7.09167958  3.82972099  0.79365551  5.8885703   9.29718395\n",
      "   1.79862509  8.10392157 -0.228207    4.83753243]]\n"
     ]
    }
   ],
   "source": [
    "from sklearn.svm import SVC\n",
    "\n",
    "svm_clf = SVC(gamma=\"auto\", random_state=17)\n",
    "svm_clf.fit(X_train[:1000], y_train[:1000])\n",
    "ret = svm_clf.predict([some_digit])\n",
    "print(ret)\n",
    "\n",
    "some_digit_score = svm_clf.decision_function([some_digit])\n",
    "print(some_digit_score)"
   ]
  },
  {
   "cell_type": "code",
   "execution_count": 22,
   "metadata": {},
   "outputs": [
    {
     "name": "stdout",
     "output_type": "stream",
     "text": [
      "[5]\n"
     ]
    }
   ],
   "source": [
    "from sklearn.multiclass import OneVsRestClassifier\n",
    "\n",
    "ovr_clf = OneVsRestClassifier(SVC(gamma=\"auto\", random_state=17))\n",
    "ovr_clf.fit(X_train[:1000], y_train[:1000])\n",
    "ret = ovr_clf.predict([some_digit])\n",
    "print(ret)"
   ]
  },
  {
   "cell_type": "code",
   "execution_count": 24,
   "metadata": {},
   "outputs": [
    {
     "data": {
      "text/plain": [
       "array([[5591,    0,   23,    5,    8,   46,   34,    5,  210,    1],\n",
       "       [   1, 6406,   39,   24,    4,   45,    4,    8,  198,   13],\n",
       "       [  28,   26, 5256,   97,   73,   28,   64,   37,  339,   10],\n",
       "       [  23,   17,  120, 5252,    2,  211,   26,   38,  371,   71],\n",
       "       [  12,   14,   47,   12, 5220,   12,   35,   24,  298,  168],\n",
       "       [  26,   16,   34,  169,   53, 4491,   75,   14,  482,   61],\n",
       "       [  29,   16,   46,    3,   43,   99, 5555,    4,  122,    1],\n",
       "       [  19,    9,   53,   26,   53,   15,    3, 5705,  170,  212],\n",
       "       [  18,   64,   47,   86,    3,  129,   24,   11, 5424,   45],\n",
       "       [  24,   18,   30,   65,  121,   38,    1,  176,  332, 5144]])"
      ]
     },
     "execution_count": 24,
     "metadata": {},
     "output_type": "execute_result"
    }
   ],
   "source": [
    "from sklearn.preprocessing import StandardScaler\n",
    "\n",
    "scaler = StandardScaler()\n",
    "X_train_scaled = scaler.fit_transform(X_train.astype(np.float64))\n",
    "cross_val_score(sgd_clf, X_train_scaled, y_train, cv=3, scoring=\"accuracy\")\n",
    "\n",
    "\n",
    "y_train_pred = cross_val_predict(sgd_clf, X_train_scaled, y_train, cv=3)\n",
    "conf_mx = confusion_matrix(y_train, y_train_pred)\n",
    "conf_mx\n"
   ]
  },
  {
   "cell_type": "code",
   "execution_count": 26,
   "metadata": {},
   "outputs": [
    {
     "data": {
      "image/png": "[encoded data removed]",
      "text/plain": [
       "<Figure size 288x288 with 1 Axes>"
      ]
     },
     "metadata": {
      "needs_background": "light"
     },
     "output_type": "display_data"
    }
   ],
   "source": [
    "plt.matshow(conf_mx, cmap=plt.cm.gray)\n",
    "plt.show()\n"
   ]
  },
  {
   "cell_type": "code",
   "execution_count": 31,
   "metadata": {},
   "outputs": [
    {
     "name": "stdout",
     "output_type": "stream",
     "text": [
      "[[0.         0.         0.00388317 0.00084417 0.00135067 0.00776633\n",
      "  0.00574033 0.00084417 0.03545501 0.00016883]\n",
      " [0.00014832 0.         0.00578463 0.00355977 0.0005933  0.00667458\n",
      "  0.0005933  0.00118659 0.02936814 0.00192821]\n",
      " [0.00469956 0.00436388 0.         0.01628063 0.01225243 0.00469956\n",
      "  0.01074186 0.00621014 0.05689829 0.00167842]\n",
      " [0.00375143 0.00277279 0.01957266 0.         0.00032621 0.03441527\n",
      "  0.00424074 0.00619801 0.06051215 0.01158049]\n",
      " [0.00205409 0.00239644 0.00804519 0.00205409 0.         0.00205409\n",
      "  0.0059911  0.00410818 0.05100993 0.02875727]\n",
      " [0.00479616 0.00295148 0.00627191 0.03117506 0.00977679 0.\n",
      "  0.01383509 0.00258255 0.08891348 0.01125254]\n",
      " [0.0049003  0.00270362 0.0077729  0.00050693 0.00726597 0.01672862\n",
      "  0.         0.0006759  0.02061507 0.00016898]\n",
      " [0.00303272 0.00143655 0.0084597  0.00415004 0.0084597  0.00239425\n",
      "  0.00047885 0.         0.02713488 0.03383879]\n",
      " [0.0030764  0.0109383  0.00803281 0.01469834 0.00051273 0.02204751\n",
      "  0.00410186 0.00188002 0.         0.00769099]\n",
      " [0.00403429 0.00302572 0.00504286 0.01092621 0.02033955 0.00638763\n",
      "  0.0001681  0.0295848  0.0558077  0.        ]]\n"
     ]
    },
    {
     "data": {
      "image/png": "[encoded data removed]",
      "text/plain": [
       "<Figure size 432x288 with 1 Axes>"
      ]
     },
     "metadata": {
      "needs_background": "light"
     },
     "output_type": "display_data"
    }
   ],
   "source": [
    "row_sums = conf_mx.sum(axis=1, keepdims=True)\n",
    "norm_conf_mx = conf_mx / row_sums\n",
    "np.fill_diagonal(norm_conf_mx, 0)\n",
    "print(norm_conf_mx)\n",
    "plt.matshow(norm_conf_mx, 0)\n",
    "plt.show()"
   ]
  },
  {
   "cell_type": "markdown",
   "metadata": {},
   "source": [
    "# Multi-Label Classification"
   ]
  },
  {
   "cell_type": "code",
   "execution_count": 38,
   "metadata": {},
   "outputs": [
    {
     "name": "stdout",
     "output_type": "stream",
     "text": [
      "Some digit (5) is large: False, is odd: True\n"
     ]
    }
   ],
   "source": [
    "from sklearn.neighbors import KNeighborsClassifier\n",
    "\n",
    "y_train_large = y_train >= 7\n",
    "y_train_odd = y_train % 2 == 1\n",
    "y_multilabel = np.c_[y_train_large, y_train_odd]\n",
    "\n",
    "knn_clf = KNeighborsClassifier()\n",
    "knn_clf.fit(X_train, y_multilabel)\n",
    "ret = knn_clf.predict([some_digit])\n",
    "print(f\"Some digit (5) is large: {ret[0][0]}, is odd: {ret[0][1]}\")\n"
   ]
  },
  {
   "cell_type": "markdown",
   "metadata": {},
   "source": [
    "# Multi-Output Classification"
   ]
  },
  {
   "cell_type": "code",
   "execution_count": 41,
   "metadata": {},
   "outputs": [
    {
     "data": {
      "image/png": "[encoded data removed]",
      "text/plain": [
       "<Figure size 432x288 with 2 Axes>"
      ]
     },
     "metadata": {
      "needs_background": "light"
     },
     "output_type": "display_data"
    }
   ],
   "source": [
    "noise = np.random.randint(0, 100, (len(X_train), 784))\n",
    "X_train_mod = X_train + noise\n",
    "noise = np.random.randint(0, 100, (len(X_test), 784))\n",
    "X_test_mod = X_test + noise\n",
    "y_train_mod = X_train\n",
    "y_test_mod = X_test\n",
    "\n",
    "\n",
    "def plot_digit(data):\n",
    "    image = data.reshape(28, 28)\n",
    "    plt.imshow(image, cmap=mpl.cm.binary, interpolation=\"nearest\")\n",
    "    plt.axis(\"off\")\n",
    "\n",
    "\n",
    "some_index = 0\n",
    "plt.subplot(121)\n",
    "plot_digit(X_test_mod[some_index])\n",
    "plt.subplot(122)\n",
    "plot_digit(y_test_mod[some_index])\n",
    "plt.show()\n"
   ]
  },
  {
   "cell_type": "code",
   "execution_count": 43,
   "metadata": {},
   "outputs": [
    {
     "data": {
      "image/png": "[encoded data removed]",
      "text/plain": [
       "<Figure size 432x288 with 1 Axes>"
      ]
     },
     "metadata": {
      "needs_background": "light"
     },
     "output_type": "display_data"
    }
   ],
   "source": [
    "knn_clf.fit(X_train_mod, y_train_mod)\n",
    "clean_digit = knn_clf.predict([X_test_mod[some_index]])\n",
    "plot_digit(clean_digit)"
   ]
  },
  {
   "cell_type": "code",
   "execution_count": null,
   "metadata": {},
   "outputs": [],
   "source": []
  }
 ],
 "metadata": {
  "interpreter": {
   "hash": "e7370f93d1d0cde622a1f8e1c04877d8463912d04d973331ad4851f04de6915a"
  },
  "kernelspec": {
   "display_name": "Python 3.10.1 64-bit",
   "language": "python",
   "name": "python3"
  },
  "language_info": {
   "codemirror_mode": {
    "name": "ipython",
    "version": 3
   },
   "file_extension": ".py",
   "mimetype": "text/x-python",
   "name": "python",
   "nbconvert_exporter": "python",
   "pygments_lexer": "ipython3",
   "version": "3.10.2"
  },
  "orig_nbformat": 4
 },
 "nbformat": 4,
 "nbformat_minor": 2
}
