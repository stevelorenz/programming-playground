{
 "cells": [
  {
   "cell_type": "code",
   "execution_count": 2,
   "metadata": {},
   "outputs": [],
   "source": [
    "import sys\n",
    "import sklearn\n",
    "\n",
    "assert sys.version_info >= (3, 5)\n",
    "\n",
    "IS_COLAB = \"google.colab\" in sys.modules\n",
    "IS_KAGGLE = \"kaggle_secrets\" in sys.modules\n",
    "\n",
    "assert sklearn.__version__ >= \"0.20\"\n",
    "\n",
    "import numpy as np\n",
    "import os\n",
    "\n",
    "np.random.seed(17)\n",
    "\n",
    "%matplotlib inline\n",
    "import matplotlib as mpl\n",
    "import matplotlib.pyplot as plt\n",
    "mpl.rc('axes', labelsize=14)\n",
    "mpl.rc('xtick', labelsize=12)\n",
    "mpl.rc('ytick', labelsize=12)\n"
   ]
  },
  {
   "cell_type": "code",
   "execution_count": 4,
   "metadata": {},
   "outputs": [
    {
     "data": {
      "text/plain": [
       "dict_keys(['data', 'target', 'frame', 'categories', 'feature_names', 'target_names', 'DESCR', 'details', 'url'])"
      ]
     },
     "execution_count": 4,
     "metadata": {},
     "output_type": "execute_result"
    }
   ],
   "source": [
    "from sklearn.datasets import fetch_openml\n",
    "mnist = fetch_openml(\"mnist_784\", version=1, as_frame=False)\n",
    "mnist.keys()"
   ]
  },
  {
   "cell_type": "code",
   "execution_count": 12,
   "metadata": {},
   "outputs": [
    {
     "name": "stdout",
     "output_type": "stream",
     "text": [
      "784\n",
      "5\n"
     ]
    },
    {
     "data": {
      "image/png": "[encoded data removed]",
      "text/plain": [
       "<Figure size 432x288 with 1 Axes>"
      ]
     },
     "metadata": {
      "needs_background": "light"
     },
     "output_type": "display_data"
    }
   ],
   "source": [
    "X, y = mnist[\"data\"], mnist[\"target\"]\n",
    "X.shape\n",
    "# Each image is 28 * 28 pixels\n",
    "print(X[0].size)\n",
    "print(y[0])\n",
    "\n",
    "some_digit = X[0]\n",
    "some_digit_image = some_digit.reshape(28, 28)\n",
    "plt.imshow(some_digit_image, cmap=mpl.cm.binary, interpolation=\"nearest\")\n",
    "plt.axis(\"off\")\n",
    "plt.show()"
   ]
  },
  {
   "cell_type": "code",
   "execution_count": 17,
   "metadata": {},
   "outputs": [
    {
     "name": "stdout",
     "output_type": "stream",
     "text": [
      "5\n"
     ]
    }
   ],
   "source": [
    "y = y.astype(np.uint8)\n",
    "print(y[0])\n",
    "\n",
    "TRAIN_SET_NUM = 60000\n",
    "X_train, X_test, y_train, y_test = (\n",
    "    X[:TRAIN_SET_NUM],\n",
    "    X[TRAIN_SET_NUM:],\n",
    "    y[:TRAIN_SET_NUM],\n",
    "    y[TRAIN_SET_NUM:],\n",
    ")\n"
   ]
  },
  {
   "cell_type": "code",
   "execution_count": 19,
   "metadata": {},
   "outputs": [],
   "source": [
    "y_train_5 = y_train == 5\n",
    "y_test_5 = y_test == 5\n",
    "\n",
    "from sklearn.linear_model import SGDClassifier\n",
    "\n",
    "sgd_clf = SGDClassifier(max_iter=1000, tol=1e-3, random_state=17)\n",
    "sgd_clf.fit(X_train, y_train_5)\n",
    "\n",
    "ret = sgd_clf.predict([some_digit])\n",
    "assert ret == [[True]]\n"
   ]
  },
  {
   "cell_type": "markdown",
   "metadata": {},
   "source": [
    "# Performance Evaluation"
   ]
  },
  {
   "cell_type": "code",
   "execution_count": 20,
   "metadata": {},
   "outputs": [
    {
     "name": "stdout",
     "output_type": "stream",
     "text": [
      "0.92\n",
      "0.9648\n",
      "0.9658\n"
     ]
    }
   ],
   "source": [
    "from sklearn.model_selection import StratifiedKFold\n",
    "from sklearn.base import clone\n",
    "\n",
    "skfolds = StratifiedKFold(n_splits=3, shuffle=True, random_state=17)\n",
    "for train_index, test_index in skfolds.split(X_train, y_train_5):\n",
    "\tclone_clf = clone(sgd_clf)\n",
    "\tX_train_folds = X_train[train_index]\n",
    "\ty_train_folds = y_train_5[train_index]\n",
    "\tX_test_fold = X_train[test_index]\n",
    "\ty_test_fold = y_train_5[test_index]\n",
    "\n",
    "\tclone_clf.fit(X_train_folds, y_train_folds)\n",
    "\ty_pred = clone_clf.predict(X_test_fold)\n",
    "\tn_correct = sum(y_pred == y_test_fold)\n",
    "\tprint(n_correct / len(y_pred))"
   ]
  },
  {
   "cell_type": "code",
   "execution_count": 21,
   "metadata": {},
   "outputs": [
    {
     "data": {
      "text/plain": [
       "array([0.96675, 0.9618 , 0.94425])"
      ]
     },
     "execution_count": 21,
     "metadata": {},
     "output_type": "execute_result"
    }
   ],
   "source": [
    "from sklearn.model_selection import cross_val_score\n",
    "\n",
    "cross_val_score(sgd_clf, X_train, y_train_5, cv=3, scoring=\"accuracy\")"
   ]
  },
  {
   "cell_type": "code",
   "execution_count": 22,
   "metadata": {},
   "outputs": [],
   "source": [
    "from sklearn.model_selection import cross_val_predict\n",
    "\n",
    "y_train_pred = cross_val_predict(sgd_clf, X_train, y_train_5, cv=3)"
   ]
  },
  {
   "cell_type": "code",
   "execution_count": 23,
   "metadata": {},
   "outputs": [
    {
     "name": "stdout",
     "output_type": "stream",
     "text": [
      "[[53936   643]\n",
      " [ 1901  3520]]\n"
     ]
    }
   ],
   "source": [
    "from sklearn.metrics import confusion_matrix\n",
    "\n",
    "conf_mat = confusion_matrix(y_train_5, y_train_pred)\n",
    "print(conf_mat)"
   ]
  },
  {
   "cell_type": "code",
   "execution_count": 44,
   "metadata": {},
   "outputs": [
    {
     "name": "stdout",
     "output_type": "stream",
     "text": [
      "0.8455440787893346\n",
      "0.6493266924921601\n",
      "f1 score: 0.7345575959933222\n"
     ]
    }
   ],
   "source": [
    "from sklearn.metrics import precision_score, recall_score\n",
    "\n",
    "prec_score = precision_score(y_train_5, y_train_pred)\n",
    "print(prec_score)\n",
    "reca_score = recall_score(y_train_5, y_train_pred)\n",
    "print(reca_score)\n",
    "\n",
    "from sklearn.metrics import f1_score\n",
    "f1_score = f1_score(y_train_5, y_train_pred)\n",
    "print(f\"f1 score: {f1_score}\")"
   ]
  },
  {
   "cell_type": "code",
   "execution_count": 45,
   "metadata": {},
   "outputs": [],
   "source": [
    "y_scores = cross_val_predict(\n",
    "    sgd_clf, X_train, y_train_5, cv=3, method=\"decision_function\"\n",
    ")\n",
    "from sklearn.metrics import precision_recall_curve\n",
    "\n",
    "precisions, recalls, thresholds = precision_recall_curve(y_train_5, y_scores)\n"
   ]
  },
  {
   "cell_type": "code",
   "execution_count": 46,
   "metadata": {},
   "outputs": [],
   "source": [
    "def plot_precision_recall_vs_threshold(precisions, recalls, thresholds):\n",
    "    plt.plot(thresholds, precisions[:-1], \"b--\", label=\"Precision\", linewidth=2)\n",
    "    plt.plot(thresholds, recalls[:-1], \"g-\", label=\"Recall\", linewidth=2)\n",
    "    plt.legend(loc=\"center right\", fontsize=16)  # Not shown in the book\n",
    "    plt.xlabel(\"Threshold\", fontsize=16)  # Not shown\n",
    "    plt.grid(True)  # Not shown\n",
    "    plt.axis([-50000, 50000, 0, 1])  # Not shown\n",
    "\n",
    "\n",
    "recall_90_precision = recalls[np.argmax(precisions >= 0.90)]\n",
    "threshold_90_precision = thresholds[np.argmax(precisions >= 0.90)]\n",
    "\n",
    "# plt.figure(figsize=(8, 4))  # Not shown\n",
    "# plot_precision_recall_vs_threshold(precisions, recalls, thresholds)\n",
    "# plt.plot(\n",
    "#     [threshold_90_precision, threshold_90_precision], [0.0, 0.9], \"r:\"\n",
    "# )  # Not shown\n",
    "# plt.plot([-50000, threshold_90_precision], [0.9, 0.9], \"r:\")  # Not shown\n",
    "# plt.plot(\n",
    "#     [-50000, threshold_90_precision], [recall_90_precision, recall_90_precision], \"r:\"\n",
    "# )  # Not shown\n",
    "# plt.plot([threshold_90_precision], [0.9], \"ro\")  # Not shown\n",
    "# plt.plot(\n",
    "#     [threshold_90_precision], [recall_90_precision], \"ro\"\n",
    "# )  # Not shown                                           # Not shown\n",
    "# plt.show()\n"
   ]
  },
  {
   "cell_type": "code",
   "execution_count": 47,
   "metadata": {},
   "outputs": [],
   "source": [
    "def plot_precision_vs_recall(precisions, recalls):\n",
    "    plt.plot(recalls, precisions, \"b-\", linewidth=2)\n",
    "    plt.xlabel(\"Recall\", fontsize=16)\n",
    "    plt.ylabel(\"Precision\", fontsize=16)\n",
    "    plt.axis([0, 1, 0, 1])\n",
    "    plt.grid(True)\n",
    "\n",
    "\n",
    "# plt.figure(figsize=(8, 6))\n",
    "# plot_precision_vs_recall(precisions, recalls)\n",
    "# plt.plot([recall_90_precision, recall_90_precision], [0.0, 0.9], \"r:\")\n",
    "# plt.plot([0.0, recall_90_precision], [0.9, 0.9], \"r:\")\n",
    "# plt.plot([recall_90_precision], [0.9], \"ro\")\n",
    "\n",
    "# plt.show()\n"
   ]
  },
  {
   "cell_type": "code",
   "execution_count": 49,
   "metadata": {},
   "outputs": [
    {
     "name": "stdout",
     "output_type": "stream",
     "text": [
      "1854.5025990559493\n",
      "Precision: 0.9001214329083181\n",
      "Recall: 0.5469470577384247\n"
     ]
    }
   ],
   "source": [
    "threshold_90_precision = thresholds[np.argmax(precisions >= 0.90)]\n",
    "print(threshold_90_precision)\n",
    "\n",
    "y_train_pred_90 = y_scores >= threshold_90_precision\n",
    "\n",
    "ret = precision_score(y_train_5, y_train_pred_90)\n",
    "print(f\"Precision: {ret}\")\n",
    "\n",
    "ret = recall_score(y_train_5, y_train_pred_90)\n",
    "print(f\"Recall: {ret}\")"
   ]
  }
 ],
 "metadata": {
  "interpreter": {
   "hash": "e7370f93d1d0cde622a1f8e1c04877d8463912d04d973331ad4851f04de6915a"
  },
  "kernelspec": {
   "display_name": "Python 3.10.1 64-bit",
   "language": "python",
   "name": "python3"
  },
  "language_info": {
   "codemirror_mode": {
    "name": "ipython",
    "version": 3
   },
   "file_extension": ".py",
   "mimetype": "text/x-python",
   "name": "python",
   "nbconvert_exporter": "python",
   "pygments_lexer": "ipython3",
   "version": "3.10.1"
  },
  "orig_nbformat": 4
 },
 "nbformat": 4,
 "nbformat_minor": 2
}
