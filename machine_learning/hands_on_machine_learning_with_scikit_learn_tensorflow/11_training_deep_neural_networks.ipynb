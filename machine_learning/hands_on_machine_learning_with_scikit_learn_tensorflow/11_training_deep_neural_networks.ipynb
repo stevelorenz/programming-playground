{
 "cells": [
  {
   "cell_type": "markdown",
   "metadata": {},
   "source": [
    "# Training Deep Neural Networks"
   ]
  },
  {
   "cell_type": "code",
   "execution_count": 1,
   "metadata": {},
   "outputs": [],
   "source": [
    "# Python ≥3.5 is required\n",
    "import sys\n",
    "assert sys.version_info >= (3, 5)\n",
    "\n",
    "# Scikit-Learn ≥0.20 is required\n",
    "import sklearn\n",
    "assert sklearn.__version__ >= \"0.20\"\n",
    "\n",
    "try:\n",
    "    # %tensorflow_version only exists in Colab.\n",
    "    %tensorflow_version 2.x\n",
    "except Exception:\n",
    "    pass\n",
    "\n",
    "# TensorFlow ≥2.0 is required\n",
    "import tensorflow as tf\n",
    "from tensorflow import keras\n",
    "assert tf.__version__ >= \"2.0\"\n",
    "\n",
    "%load_ext tensorboard\n",
    "\n",
    "# Common imports\n",
    "import numpy as np\n",
    "import os\n",
    "\n",
    "# to make this notebook's output stable across runs\n",
    "np.random.seed(42)\n",
    "\n",
    "# To plot pretty figures\n",
    "%matplotlib inline\n",
    "import matplotlib as mpl\n",
    "import matplotlib.pyplot as plt\n",
    "mpl.rc('axes', labelsize=14)\n",
    "mpl.rc('xtick', labelsize=12)\n",
    "mpl.rc('ytick', labelsize=12)\n"
   ]
  },
  {
   "cell_type": "markdown",
   "metadata": {},
   "source": [
    "## Vanishing/Exploding Gradients Problem"
   ]
  },
  {
   "cell_type": "code",
   "execution_count": 2,
   "metadata": {},
   "outputs": [],
   "source": [
    "def logit(z):\n",
    "    return 1 / (1 + np.exp(-z))\n"
   ]
  },
  {
   "cell_type": "code",
   "execution_count": 12,
   "metadata": {},
   "outputs": [
    {
     "data": {
      "image/png": "[encoded data removed]",
      "text/plain": [
       "<Figure size 432x288 with 1 Axes>"
      ]
     },
     "metadata": {
      "needs_background": "light"
     },
     "output_type": "display_data"
    }
   ],
   "source": [
    "z = np.linspace(-5, 5, 200)\n",
    "\n",
    "plt.plot([-5, 5], [0, 0], \"k-\")\n",
    "plt.plot([-5, 5], [1, 1], \"k--\")\n",
    "\n",
    "plt.plot([0, 0], [-0.2, 1.2], \"k-\")\n",
    "plt.plot([-5, 5], [-3 / 4, 7 / 4], \"g--\")\n",
    "\n",
    "plt.plot(z, logit(z), \"b-\", linewidth=2)\n",
    "props = dict(facecolor=\"black\", shrink=0.1)\n",
    "\n",
    "plt.annotate(\n",
    "    \"Saturating\",\n",
    "    xytext=(3.5, 0.7),\n",
    "    xy=(5, 1),\n",
    "    arrowprops=props,\n",
    "    fontsize=14,\n",
    "    ha=\"center\",\n",
    ")\n",
    "\n",
    "plt.annotate(\n",
    "    \"Saturating\",\n",
    "    xytext=(-3.5, 0.3),\n",
    "    xy=(-5, 0),\n",
    "    arrowprops=props,\n",
    "    fontsize=14,\n",
    "    ha=\"center\",\n",
    ")\n",
    "\n",
    "plt.annotate(\n",
    "    \"Linear\",\n",
    "    xytext=(2, 0.2),\n",
    "    xy=(0, 0.5),\n",
    "    arrowprops=props,\n",
    "    fontsize=14,\n",
    "    ha=\"center\",\n",
    ")\n",
    "\n",
    "plt.grid(True)\n",
    "plt.title(\"Sigmoid activation function\", fontsize=14)\n",
    "plt.axis([-5, 5, -0.2, 1.2])\n",
    "\n",
    "plt.show()\n"
   ]
  },
  {
   "cell_type": "markdown",
   "metadata": {},
   "source": [
    "## Xavier and He Initialization"
   ]
  },
  {
   "cell_type": "code",
   "execution_count": 14,
   "metadata": {},
   "outputs": [
    {
     "data": {
      "text/plain": [
       "['Constant',\n",
       " 'GlorotNormal',\n",
       " 'GlorotUniform',\n",
       " 'HeNormal',\n",
       " 'HeUniform',\n",
       " 'Identity',\n",
       " 'Initializer',\n",
       " 'LecunNormal',\n",
       " 'LecunUniform',\n",
       " 'Ones',\n",
       " 'Orthogonal',\n",
       " 'RandomNormal',\n",
       " 'RandomUniform',\n",
       " 'TruncatedNormal',\n",
       " 'VarianceScaling',\n",
       " 'Zeros',\n",
       " 'constant',\n",
       " 'deserialize',\n",
       " 'get',\n",
       " 'glorot_normal',\n",
       " 'glorot_uniform',\n",
       " 'he_normal',\n",
       " 'he_uniform',\n",
       " 'identity',\n",
       " 'lecun_normal',\n",
       " 'lecun_uniform',\n",
       " 'ones',\n",
       " 'orthogonal',\n",
       " 'random_normal',\n",
       " 'random_uniform',\n",
       " 'serialize',\n",
       " 'truncated_normal',\n",
       " 'variance_scaling',\n",
       " 'zeros']"
      ]
     },
     "execution_count": 14,
     "metadata": {},
     "output_type": "execute_result"
    }
   ],
   "source": [
    "[name for name in dir(keras.initializers) if not name.startswith(\"_\")]\n"
   ]
  },
  {
   "cell_type": "code",
   "execution_count": 15,
   "metadata": {},
   "outputs": [
    {
     "data": {
      "text/plain": [
       "<keras.layers.core.dense.Dense at 0x7fd460dddb10>"
      ]
     },
     "execution_count": 15,
     "metadata": {},
     "output_type": "execute_result"
    }
   ],
   "source": [
    "keras.layers.Dense(10, activation=\"relu\", kernel_initializer=\"he_normal\")\n"
   ]
  },
  {
   "cell_type": "code",
   "execution_count": 16,
   "metadata": {},
   "outputs": [
    {
     "data": {
      "text/plain": [
       "<keras.layers.core.dense.Dense at 0x7fd460e990f0>"
      ]
     },
     "execution_count": 16,
     "metadata": {},
     "output_type": "execute_result"
    }
   ],
   "source": [
    "init = keras.initializers.VarianceScaling(\n",
    "    scale=2.0, mode=\"fan_avg\", distribution=\"uniform\"\n",
    ")\n",
    "keras.layers.Dense(10, activation=\"relu\", kernel_initializer=init)\n"
   ]
  },
  {
   "cell_type": "markdown",
   "metadata": {},
   "source": [
    "## Nonsaturating Activation Functions"
   ]
  },
  {
   "cell_type": "code",
   "execution_count": 22,
   "metadata": {},
   "outputs": [],
   "source": [
    "def leaky_relu(z, alpha=0.01):\n",
    "    return np.maximum(alpha * z, z)\n"
   ]
  },
  {
   "cell_type": "code",
   "execution_count": 23,
   "metadata": {},
   "outputs": [
    {
     "data": {
      "image/png": "[encoded data removed]",
      "text/plain": [
       "<Figure size 432x288 with 1 Axes>"
      ]
     },
     "metadata": {
      "needs_background": "light"
     },
     "output_type": "display_data"
    }
   ],
   "source": [
    "plt.plot(z, leaky_relu(z, 0.05), \"b-\", linewidth=2)\n",
    "plt.plot([-5, 5], [0, 0], \"k-\")\n",
    "plt.plot([0, 0], [-0.5, 4.2], \"k-\")\n",
    "plt.grid(True)\n",
    "props = dict(facecolor=\"black\", shrink=0.1)\n",
    "plt.annotate(\n",
    "    \"Leak\",\n",
    "    xytext=(-3.5, 0.5),\n",
    "    xy=(-5, -0.2),\n",
    "    arrowprops=props,\n",
    "    fontsize=14,\n",
    "    ha=\"center\",\n",
    ")\n",
    "plt.title(\"Leaky ReLU activation function\", fontsize=14)\n",
    "plt.axis([-5, 5, -0.5, 4.2])\n",
    "\n",
    "plt.show()\n"
   ]
  },
  {
   "cell_type": "code",
   "execution_count": 24,
   "metadata": {},
   "outputs": [
    {
     "data": {
      "text/plain": [
       "['deserialize',\n",
       " 'elu',\n",
       " 'exponential',\n",
       " 'gelu',\n",
       " 'get',\n",
       " 'hard_sigmoid',\n",
       " 'linear',\n",
       " 'relu',\n",
       " 'selu',\n",
       " 'serialize',\n",
       " 'sigmoid',\n",
       " 'softmax',\n",
       " 'softplus',\n",
       " 'softsign',\n",
       " 'swish',\n",
       " 'tanh']"
      ]
     },
     "execution_count": 24,
     "metadata": {},
     "output_type": "execute_result"
    }
   ],
   "source": [
    "[m for m in dir(keras.activations) if not m.startswith(\"_\")]\n"
   ]
  },
  {
   "cell_type": "code",
   "execution_count": 25,
   "metadata": {},
   "outputs": [
    {
     "data": {
      "text/plain": [
       "['LeakyReLU', 'PReLU', 'ReLU', 'ThresholdedReLU']"
      ]
     },
     "execution_count": 25,
     "metadata": {},
     "output_type": "execute_result"
    }
   ],
   "source": [
    "[m for m in dir(keras.layers) if \"relu\" in m.lower()]\n"
   ]
  },
  {
   "cell_type": "code",
   "execution_count": 28,
   "metadata": {},
   "outputs": [],
   "source": [
    "(X_train_full, y_train_full), (\n",
    "    X_test,\n",
    "    y_test,\n",
    ") = keras.datasets.fashion_mnist.load_data()\n",
    "X_train_full = X_train_full / 255.0\n",
    "X_test = X_test / 255.0\n",
    "\n",
    "X_valid, X_train = X_train_full[:5000], X_train_full[5000:]\n",
    "y_valid, y_train = y_train_full[:5000], y_train_full[5000:]\n"
   ]
  },
  {
   "cell_type": "code",
   "execution_count": 29,
   "metadata": {},
   "outputs": [
    {
     "name": "stderr",
     "output_type": "stream",
     "text": [
      "2022-03-24 10:25:39.637830: I tensorflow/stream_executor/cuda/cuda_gpu_executor.cc:936] successful NUMA node read from SysFS had negative value (-1), but there must be at least one NUMA node, so returning NUMA node zero\n",
      "2022-03-24 10:25:39.705191: I tensorflow/stream_executor/cuda/cuda_gpu_executor.cc:936] successful NUMA node read from SysFS had negative value (-1), but there must be at least one NUMA node, so returning NUMA node zero\n",
      "2022-03-24 10:25:39.705465: I tensorflow/stream_executor/cuda/cuda_gpu_executor.cc:936] successful NUMA node read from SysFS had negative value (-1), but there must be at least one NUMA node, so returning NUMA node zero\n",
      "2022-03-24 10:25:39.706826: I tensorflow/core/platform/cpu_feature_guard.cc:151] This TensorFlow binary is optimized with oneAPI Deep Neural Network Library (oneDNN) to use the following CPU instructions in performance-critical operations:  SSE3 SSE4.1 SSE4.2 AVX AVX2 FMA\n",
      "To enable them in other operations, rebuild TensorFlow with the appropriate compiler flags.\n",
      "2022-03-24 10:25:39.708114: I tensorflow/stream_executor/cuda/cuda_gpu_executor.cc:936] successful NUMA node read from SysFS had negative value (-1), but there must be at least one NUMA node, so returning NUMA node zero\n",
      "2022-03-24 10:25:39.708297: I tensorflow/stream_executor/cuda/cuda_gpu_executor.cc:936] successful NUMA node read from SysFS had negative value (-1), but there must be at least one NUMA node, so returning NUMA node zero\n",
      "2022-03-24 10:25:39.708434: I tensorflow/stream_executor/cuda/cuda_gpu_executor.cc:936] successful NUMA node read from SysFS had negative value (-1), but there must be at least one NUMA node, so returning NUMA node zero\n",
      "2022-03-24 10:25:40.768974: I tensorflow/stream_executor/cuda/cuda_gpu_executor.cc:936] successful NUMA node read from SysFS had negative value (-1), but there must be at least one NUMA node, so returning NUMA node zero\n",
      "2022-03-24 10:25:40.769165: I tensorflow/stream_executor/cuda/cuda_gpu_executor.cc:936] successful NUMA node read from SysFS had negative value (-1), but there must be at least one NUMA node, so returning NUMA node zero\n",
      "2022-03-24 10:25:40.769301: I tensorflow/stream_executor/cuda/cuda_gpu_executor.cc:936] successful NUMA node read from SysFS had negative value (-1), but there must be at least one NUMA node, so returning NUMA node zero\n",
      "2022-03-24 10:25:40.769803: I tensorflow/core/common_runtime/gpu/gpu_device.cc:1525] Created device /job:localhost/replica:0/task:0/device:GPU:0 with 6584 MB memory:  -> device: 0, name: NVIDIA GeForce GTX 1070, pci bus id: 0000:01:00.0, compute capability: 6.1\n",
      "2022-03-24 10:25:40.770718: I tensorflow/core/common_runtime/process_util.cc:146] Creating new thread pool with default inter op setting: 2. Tune using inter_op_parallelism_threads for best performance.\n"
     ]
    }
   ],
   "source": [
    "tf.random.set_seed(42)\n",
    "np.random.seed(42)\n",
    "\n",
    "model = keras.models.Sequential(\n",
    "    [\n",
    "        keras.layers.Flatten(input_shape=[28, 28]),\n",
    "        keras.layers.Dense(300, kernel_initializer=\"he_normal\"),\n",
    "        keras.layers.LeakyReLU(),\n",
    "        keras.layers.Dense(100, kernel_initializer=\"he_normal\"),\n",
    "        keras.layers.LeakyReLU(),\n",
    "        keras.layers.Dense(10, activation=\"softmax\"),\n",
    "    ]\n",
    ")\n"
   ]
  },
  {
   "cell_type": "code",
   "execution_count": 32,
   "metadata": {},
   "outputs": [],
   "source": [
    "model.compile(\n",
    "    loss=\"sparse_categorical_crossentropy\",\n",
    "    optimizer=keras.optimizers.SGD(learning_rate=1e-3),\n",
    "    metrics=[\"accuracy\"],\n",
    ")\n"
   ]
  },
  {
   "cell_type": "code",
   "execution_count": 33,
   "metadata": {},
   "outputs": [
    {
     "name": "stdout",
     "output_type": "stream",
     "text": [
      "Epoch 1/10\n",
      "1719/1719 [==============================] - 4s 2ms/step - loss: 1.2819 - accuracy: 0.6229 - val_loss: 0.8886 - val_accuracy: 0.7160\n",
      "Epoch 2/10\n",
      "1719/1719 [==============================] - 3s 2ms/step - loss: 0.7955 - accuracy: 0.7361 - val_loss: 0.7130 - val_accuracy: 0.7656\n",
      "Epoch 3/10\n",
      "1719/1719 [==============================] - 3s 2ms/step - loss: 0.6816 - accuracy: 0.7721 - val_loss: 0.6427 - val_accuracy: 0.7898\n",
      "Epoch 4/10\n",
      "1719/1719 [==============================] - 3s 2ms/step - loss: 0.6217 - accuracy: 0.7944 - val_loss: 0.5900 - val_accuracy: 0.8066\n",
      "Epoch 5/10\n",
      "1719/1719 [==============================] - 3s 2ms/step - loss: 0.5832 - accuracy: 0.8075 - val_loss: 0.5582 - val_accuracy: 0.8202\n",
      "Epoch 6/10\n",
      "1719/1719 [==============================] - 3s 2ms/step - loss: 0.5553 - accuracy: 0.8157 - val_loss: 0.5350 - val_accuracy: 0.8238\n",
      "Epoch 7/10\n",
      "1719/1719 [==============================] - 3s 2ms/step - loss: 0.5338 - accuracy: 0.8225 - val_loss: 0.5157 - val_accuracy: 0.8304\n",
      "Epoch 8/10\n",
      "1719/1719 [==============================] - 3s 2ms/step - loss: 0.5173 - accuracy: 0.8272 - val_loss: 0.5079 - val_accuracy: 0.8284\n",
      "Epoch 9/10\n",
      "1719/1719 [==============================] - 3s 2ms/step - loss: 0.5040 - accuracy: 0.8289 - val_loss: 0.4895 - val_accuracy: 0.8386\n",
      "Epoch 10/10\n",
      "1719/1719 [==============================] - 3s 2ms/step - loss: 0.4924 - accuracy: 0.8321 - val_loss: 0.4817 - val_accuracy: 0.8396\n"
     ]
    }
   ],
   "source": [
    "history = model.fit(X_train, y_train, epochs=10, validation_data=(X_valid, y_valid))\n"
   ]
  },
  {
   "cell_type": "code",
   "execution_count": 34,
   "metadata": {},
   "outputs": [],
   "source": [
    "tf.random.set_seed(42)\n",
    "np.random.seed(42)\n",
    "\n",
    "model = keras.models.Sequential(\n",
    "    [\n",
    "        keras.layers.Flatten(input_shape=[28, 28]),\n",
    "        keras.layers.Dense(300, kernel_initializer=\"he_normal\"),\n",
    "        keras.layers.PReLU(),\n",
    "        keras.layers.Dense(100, kernel_initializer=\"he_normal\"),\n",
    "        keras.layers.PReLU(),\n",
    "        keras.layers.Dense(10, activation=\"softmax\"),\n",
    "    ]\n",
    ")\n"
   ]
  },
  {
   "cell_type": "code",
   "execution_count": 35,
   "metadata": {},
   "outputs": [
    {
     "name": "stdout",
     "output_type": "stream",
     "text": [
      "Epoch 1/10\n",
      "1719/1719 [==============================] - 4s 2ms/step - loss: 1.3461 - accuracy: 0.6209 - val_loss: 0.9255 - val_accuracy: 0.7186\n",
      "Epoch 2/10\n",
      "1719/1719 [==============================] - 4s 2ms/step - loss: 0.8197 - accuracy: 0.7355 - val_loss: 0.7305 - val_accuracy: 0.7630\n",
      "Epoch 3/10\n",
      "1719/1719 [==============================] - 4s 2ms/step - loss: 0.6966 - accuracy: 0.7694 - val_loss: 0.6565 - val_accuracy: 0.7880\n",
      "Epoch 4/10\n",
      "1719/1719 [==============================] - 4s 2ms/step - loss: 0.6331 - accuracy: 0.7909 - val_loss: 0.6003 - val_accuracy: 0.8048\n",
      "Epoch 5/10\n",
      "1719/1719 [==============================] - 4s 2ms/step - loss: 0.5917 - accuracy: 0.8057 - val_loss: 0.5656 - val_accuracy: 0.8178\n",
      "Epoch 6/10\n",
      "1719/1719 [==============================] - 4s 2ms/step - loss: 0.5618 - accuracy: 0.8135 - val_loss: 0.5406 - val_accuracy: 0.8238\n",
      "Epoch 7/10\n",
      "1719/1719 [==============================] - 4s 2ms/step - loss: 0.5390 - accuracy: 0.8205 - val_loss: 0.5196 - val_accuracy: 0.8312\n",
      "Epoch 8/10\n",
      "1719/1719 [==============================] - 4s 2ms/step - loss: 0.5213 - accuracy: 0.8257 - val_loss: 0.5113 - val_accuracy: 0.8316\n",
      "Epoch 9/10\n",
      "1719/1719 [==============================] - 4s 2ms/step - loss: 0.5070 - accuracy: 0.8288 - val_loss: 0.4916 - val_accuracy: 0.8382\n",
      "Epoch 10/10\n",
      "1719/1719 [==============================] - 4s 2ms/step - loss: 0.4945 - accuracy: 0.8314 - val_loss: 0.4826 - val_accuracy: 0.8396\n"
     ]
    }
   ],
   "source": [
    "model.compile(\n",
    "    loss=\"sparse_categorical_crossentropy\",\n",
    "    optimizer=keras.optimizers.SGD(learning_rate=1e-3),\n",
    "    metrics=[\"accuracy\"],\n",
    ")\n",
    "\n",
    "\n",
    "history = model.fit(X_train, y_train, epochs=10, validation_data=(X_valid, y_valid))\n"
   ]
  },
  {
   "cell_type": "markdown",
   "metadata": {},
   "source": [
    "## Batch Normalization"
   ]
  },
  {
   "cell_type": "code",
   "execution_count": 43,
   "metadata": {},
   "outputs": [],
   "source": [
    "model = keras.models.Sequential(\n",
    "    [\n",
    "        keras.layers.Flatten(input_shape=[28, 28]),\n",
    "        keras.layers.BatchNormalization(),\n",
    "        keras.layers.Dense(300, activation=\"relu\"),\n",
    "        keras.layers.BatchNormalization(),\n",
    "        keras.layers.Dense(100, activation=\"relu\"),\n",
    "        keras.layers.BatchNormalization(),\n",
    "        keras.layers.Dense(10, activation=\"softmax\"),\n",
    "    ]\n",
    ")\n"
   ]
  },
  {
   "cell_type": "code",
   "execution_count": 44,
   "metadata": {},
   "outputs": [
    {
     "name": "stdout",
     "output_type": "stream",
     "text": [
      "Model: \"sequential_3\"\n",
      "_________________________________________________________________\n",
      " Layer (type)                Output Shape              Param #   \n",
      "=================================================================\n",
      " flatten_3 (Flatten)         (None, 784)               0         \n",
      "                                                                 \n",
      " batch_normalization_3 (Batc  (None, 784)              3136      \n",
      " hNormalization)                                                 \n",
      "                                                                 \n",
      " dense_11 (Dense)            (None, 300)               235500    \n",
      "                                                                 \n",
      " batch_normalization_4 (Batc  (None, 300)              1200      \n",
      " hNormalization)                                                 \n",
      "                                                                 \n",
      " dense_12 (Dense)            (None, 100)               30100     \n",
      "                                                                 \n",
      " batch_normalization_5 (Batc  (None, 100)              400       \n",
      " hNormalization)                                                 \n",
      "                                                                 \n",
      " dense_13 (Dense)            (None, 10)                1010      \n",
      "                                                                 \n",
      "=================================================================\n",
      "Total params: 271,346\n",
      "Trainable params: 268,978\n",
      "Non-trainable params: 2,368\n",
      "_________________________________________________________________\n"
     ]
    }
   ],
   "source": [
    "model.summary()"
   ]
  },
  {
   "cell_type": "code",
   "execution_count": 45,
   "metadata": {},
   "outputs": [
    {
     "data": {
      "text/plain": [
       "[('batch_normalization_3/gamma:0', True),\n",
       " ('batch_normalization_3/beta:0', True),\n",
       " ('batch_normalization_3/moving_mean:0', False),\n",
       " ('batch_normalization_3/moving_variance:0', False)]"
      ]
     },
     "execution_count": 45,
     "metadata": {},
     "output_type": "execute_result"
    }
   ],
   "source": [
    "bn1 = model.layers[1]\n",
    "[(var.name, var.trainable) for var in bn1.variables]\n"
   ]
  },
  {
   "cell_type": "code",
   "execution_count": 46,
   "metadata": {},
   "outputs": [],
   "source": [
    "model.compile(\n",
    "    loss=\"sparse_categorical_crossentropy\",\n",
    "    optimizer=keras.optimizers.SGD(learning_rate=1e-3),\n",
    "    metrics=[\"accuracy\"],\n",
    ")\n"
   ]
  },
  {
   "cell_type": "code",
   "execution_count": 47,
   "metadata": {},
   "outputs": [
    {
     "name": "stdout",
     "output_type": "stream",
     "text": [
      "Epoch 1/10\n",
      "1719/1719 [==============================] - 6s 3ms/step - loss: 0.8465 - accuracy: 0.7180 - val_loss: 0.5549 - val_accuracy: 0.8134\n",
      "Epoch 2/10\n",
      "1719/1719 [==============================] - 5s 3ms/step - loss: 0.5743 - accuracy: 0.8020 - val_loss: 0.4757 - val_accuracy: 0.8368\n",
      "Epoch 3/10\n",
      "1719/1719 [==============================] - 5s 3ms/step - loss: 0.5178 - accuracy: 0.8197 - val_loss: 0.4405 - val_accuracy: 0.8524\n",
      "Epoch 4/10\n",
      "1719/1719 [==============================] - 5s 3ms/step - loss: 0.4801 - accuracy: 0.8330 - val_loss: 0.4184 - val_accuracy: 0.8580\n",
      "Epoch 5/10\n",
      "1719/1719 [==============================] - 5s 3ms/step - loss: 0.4566 - accuracy: 0.8394 - val_loss: 0.4025 - val_accuracy: 0.8616\n",
      "Epoch 6/10\n",
      "1719/1719 [==============================] - 5s 3ms/step - loss: 0.4391 - accuracy: 0.8456 - val_loss: 0.3908 - val_accuracy: 0.8670\n",
      "Epoch 7/10\n",
      "1719/1719 [==============================] - 5s 3ms/step - loss: 0.4256 - accuracy: 0.8511 - val_loss: 0.3807 - val_accuracy: 0.8712\n",
      "Epoch 8/10\n",
      "1719/1719 [==============================] - 5s 3ms/step - loss: 0.4146 - accuracy: 0.8542 - val_loss: 0.3742 - val_accuracy: 0.8740\n",
      "Epoch 9/10\n",
      "1719/1719 [==============================] - 5s 3ms/step - loss: 0.4031 - accuracy: 0.8571 - val_loss: 0.3687 - val_accuracy: 0.8752\n",
      "Epoch 10/10\n",
      "1719/1719 [==============================] - 5s 3ms/step - loss: 0.3917 - accuracy: 0.8615 - val_loss: 0.3635 - val_accuracy: 0.8772\n"
     ]
    }
   ],
   "source": [
    "history = model.fit(X_train, y_train, epochs=10, validation_data=(X_valid, y_valid))\n"
   ]
  },
  {
   "cell_type": "markdown",
   "metadata": {},
   "source": [
    "## Gradient Clipping"
   ]
  },
  {
   "cell_type": "code",
   "execution_count": 49,
   "metadata": {},
   "outputs": [],
   "source": [
    "optimizer = keras.optimizers.SGD(clipvalue=1.0)"
   ]
  },
  {
   "cell_type": "code",
   "execution_count": null,
   "metadata": {},
   "outputs": [],
   "source": [
    "optimizer = keras.optimizers.SGD(clipnorm=1.0)"
   ]
  },
  {
   "cell_type": "markdown",
   "metadata": {},
   "source": [
    "## Reusing Pretrained Layers"
   ]
  },
  {
   "cell_type": "code",
   "execution_count": 53,
   "metadata": {},
   "outputs": [],
   "source": [
    "def split_dataset(X, y):\n",
    "    y_5_or_6 = (y == 5) | (y == 6)  # sandals or shirts\n",
    "    y_A = y[~y_5_or_6]\n",
    "    y_A[y_A > 6] -= 2  # class indices 7, 8, 9 should be moved to 5, 6, 7\n",
    "    y_B = (y[y_5_or_6] == 6).astype(\n",
    "        np.float32\n",
    "    )  # binary classification task: is it a shirt (class 6)?\n",
    "    return ((X[~y_5_or_6], y_A), (X[y_5_or_6], y_B))\n",
    "\n",
    "\n",
    "(X_train_A, y_train_A), (X_train_B, y_train_B) = split_dataset(X_train, y_train)\n",
    "(X_valid_A, y_valid_A), (X_valid_B, y_valid_B) = split_dataset(X_valid, y_valid)\n",
    "(X_test_A, y_test_A), (X_test_B, y_test_B) = split_dataset(X_test, y_test)\n",
    "\n",
    "# Only a small number of data for set B\n",
    "X_train_B = X_train_B[:200]\n",
    "y_train_B = y_train_B[:200]\n"
   ]
  },
  {
   "cell_type": "code",
   "execution_count": 54,
   "metadata": {},
   "outputs": [],
   "source": [
    "model_A = keras.models.Sequential()\n",
    "model_A.add(keras.layers.Flatten(input_shape=[28, 28]))\n",
    "\n",
    "for n_hidden in (300, 100, 50, 50, 50):\n",
    "\tmodel_A.add(keras.layers.Dense(n_hidden, activation=\"selu\"))\n",
    "model_A.add(keras.layers.Dense(8, activation=\"softmax\"))\n"
   ]
  },
  {
   "cell_type": "code",
   "execution_count": 55,
   "metadata": {},
   "outputs": [],
   "source": [
    "model_A.compile(\n",
    "    loss=\"sparse_categorical_crossentropy\",\n",
    "    optimizer=keras.optimizers.SGD(learning_rate=1e-3),\n",
    "    metrics=[\"accuracy\"],\n",
    ")\n"
   ]
  },
  {
   "cell_type": "code",
   "execution_count": 56,
   "metadata": {},
   "outputs": [
    {
     "name": "stdout",
     "output_type": "stream",
     "text": [
      "Epoch 1/20\n",
      "1375/1375 [==============================] - 4s 3ms/step - loss: 0.4382 - accuracy: 0.8607 - val_loss: 0.2939 - val_accuracy: 0.9051\n",
      "Epoch 2/20\n",
      "1375/1375 [==============================] - 4s 3ms/step - loss: 0.3091 - accuracy: 0.8971 - val_loss: 0.2691 - val_accuracy: 0.9113\n",
      "Epoch 3/20\n",
      "1375/1375 [==============================] - 4s 3ms/step - loss: 0.2860 - accuracy: 0.9057 - val_loss: 0.2568 - val_accuracy: 0.9170\n",
      "Epoch 4/20\n",
      "1375/1375 [==============================] - 4s 3ms/step - loss: 0.2744 - accuracy: 0.9084 - val_loss: 0.2481 - val_accuracy: 0.9190\n",
      "Epoch 5/20\n",
      "1375/1375 [==============================] - 4s 3ms/step - loss: 0.2648 - accuracy: 0.9124 - val_loss: 0.2404 - val_accuracy: 0.9230\n",
      "Epoch 6/20\n",
      "1375/1375 [==============================] - 4s 3ms/step - loss: 0.2549 - accuracy: 0.9153 - val_loss: 0.2384 - val_accuracy: 0.9218\n",
      "Epoch 7/20\n",
      "1375/1375 [==============================] - 4s 3ms/step - loss: 0.2476 - accuracy: 0.9157 - val_loss: 0.2330 - val_accuracy: 0.9258\n",
      "Epoch 8/20\n",
      "1375/1375 [==============================] - 4s 3ms/step - loss: 0.2433 - accuracy: 0.9181 - val_loss: 0.2307 - val_accuracy: 0.9270\n",
      "Epoch 9/20\n",
      "1375/1375 [==============================] - 4s 3ms/step - loss: 0.2389 - accuracy: 0.9207 - val_loss: 0.2269 - val_accuracy: 0.9270\n",
      "Epoch 10/20\n",
      "1375/1375 [==============================] - 4s 3ms/step - loss: 0.2335 - accuracy: 0.9218 - val_loss: 0.2244 - val_accuracy: 0.9283\n",
      "Epoch 11/20\n",
      "1375/1375 [==============================] - 4s 3ms/step - loss: 0.2269 - accuracy: 0.9244 - val_loss: 0.2222 - val_accuracy: 0.9287\n",
      "Epoch 12/20\n",
      "1375/1375 [==============================] - 4s 3ms/step - loss: 0.2267 - accuracy: 0.9228 - val_loss: 0.2209 - val_accuracy: 0.9292\n",
      "Epoch 13/20\n",
      "1375/1375 [==============================] - 4s 3ms/step - loss: 0.2229 - accuracy: 0.9254 - val_loss: 0.2209 - val_accuracy: 0.9283\n",
      "Epoch 14/20\n",
      "1375/1375 [==============================] - 4s 3ms/step - loss: 0.2177 - accuracy: 0.9256 - val_loss: 0.2176 - val_accuracy: 0.9297\n",
      "Epoch 15/20\n",
      "1375/1375 [==============================] - 4s 3ms/step - loss: 0.2143 - accuracy: 0.9276 - val_loss: 0.2169 - val_accuracy: 0.9305\n",
      "Epoch 16/20\n",
      "1375/1375 [==============================] - 4s 3ms/step - loss: 0.2122 - accuracy: 0.9268 - val_loss: 0.2140 - val_accuracy: 0.9302\n",
      "Epoch 17/20\n",
      "1375/1375 [==============================] - 7s 5ms/step - loss: 0.2087 - accuracy: 0.9291 - val_loss: 0.2145 - val_accuracy: 0.9305\n",
      "Epoch 18/20\n",
      "1375/1375 [==============================] - 7s 5ms/step - loss: 0.2026 - accuracy: 0.9305 - val_loss: 0.2140 - val_accuracy: 0.9302\n",
      "Epoch 19/20\n",
      "1375/1375 [==============================] - 7s 5ms/step - loss: 0.2015 - accuracy: 0.9314 - val_loss: 0.2137 - val_accuracy: 0.9290\n",
      "Epoch 20/20\n",
      "1375/1375 [==============================] - 7s 5ms/step - loss: 0.1985 - accuracy: 0.9326 - val_loss: 0.2126 - val_accuracy: 0.9305\n"
     ]
    }
   ],
   "source": [
    "history = model.fit(\n",
    "    X_train_A, y_train_A, epochs=20, validation_data=(X_valid_A, y_valid_A)\n",
    ")\n"
   ]
  },
  {
   "cell_type": "code",
   "execution_count": 57,
   "metadata": {},
   "outputs": [],
   "source": [
    "model_A.save(\"./models/my_model_A.h5\")"
   ]
  },
  {
   "cell_type": "code",
   "execution_count": 58,
   "metadata": {},
   "outputs": [],
   "source": [
    "model_B = keras.models.Sequential()\n",
    "\n",
    "model_B.add(keras.layers.Flatten(input_shape=[28, 28]))\n",
    "for n_hidden in (300, 100, 50, 50, 50):\n",
    "\tmodel_B.add(keras.layers.Dense(n_hidden, activation=\"selu\"))\n",
    "model_B.add(keras.layers.Dense(1, activation=\"sigmoid\"))"
   ]
  },
  {
   "cell_type": "code",
   "execution_count": 59,
   "metadata": {},
   "outputs": [],
   "source": [
    "model_B.compile(\n",
    "    loss=\"binary_crossentropy\",\n",
    "    optimizer=keras.optimizers.SGD(learning_rate=1e-3),\n",
    "    metrics=[\"accuracy\"],\n",
    ")\n"
   ]
  },
  {
   "cell_type": "code",
   "execution_count": 60,
   "metadata": {},
   "outputs": [
    {
     "name": "stdout",
     "output_type": "stream",
     "text": [
      "Epoch 1/20\n",
      "7/7 [==============================] - 1s 43ms/step - loss: 0.8671 - accuracy: 0.4650 - val_loss: 0.6258 - val_accuracy: 0.6359\n",
      "Epoch 2/20\n",
      "7/7 [==============================] - 0s 17ms/step - loss: 0.5619 - accuracy: 0.7650 - val_loss: 0.4965 - val_accuracy: 0.8185\n",
      "Epoch 3/20\n",
      "7/7 [==============================] - 0s 19ms/step - loss: 0.4569 - accuracy: 0.8850 - val_loss: 0.4278 - val_accuracy: 0.8763\n",
      "Epoch 4/20\n",
      "7/7 [==============================] - 0s 19ms/step - loss: 0.3953 - accuracy: 0.9150 - val_loss: 0.3786 - val_accuracy: 0.9067\n",
      "Epoch 5/20\n",
      "7/7 [==============================] - 0s 19ms/step - loss: 0.3499 - accuracy: 0.9350 - val_loss: 0.3397 - val_accuracy: 0.9351\n",
      "Epoch 6/20\n",
      "7/7 [==============================] - 0s 18ms/step - loss: 0.3128 - accuracy: 0.9450 - val_loss: 0.3081 - val_accuracy: 0.9452\n",
      "Epoch 7/20\n",
      "7/7 [==============================] - 0s 21ms/step - loss: 0.2834 - accuracy: 0.9650 - val_loss: 0.2837 - val_accuracy: 0.9554\n",
      "Epoch 8/20\n",
      "7/7 [==============================] - 0s 20ms/step - loss: 0.2592 - accuracy: 0.9750 - val_loss: 0.2616 - val_accuracy: 0.9625\n",
      "Epoch 9/20\n",
      "7/7 [==============================] - 0s 22ms/step - loss: 0.2378 - accuracy: 0.9850 - val_loss: 0.2427 - val_accuracy: 0.9665\n",
      "Epoch 10/20\n",
      "7/7 [==============================] - 0s 20ms/step - loss: 0.2192 - accuracy: 0.9850 - val_loss: 0.2264 - val_accuracy: 0.9716\n",
      "Epoch 11/20\n",
      "7/7 [==============================] - 0s 32ms/step - loss: 0.2032 - accuracy: 0.9850 - val_loss: 0.2116 - val_accuracy: 0.9736\n",
      "Epoch 12/20\n",
      "7/7 [==============================] - 0s 18ms/step - loss: 0.1888 - accuracy: 0.9850 - val_loss: 0.1992 - val_accuracy: 0.9736\n",
      "Epoch 13/20\n",
      "7/7 [==============================] - 0s 21ms/step - loss: 0.1766 - accuracy: 0.9850 - val_loss: 0.1886 - val_accuracy: 0.9736\n",
      "Epoch 14/20\n",
      "7/7 [==============================] - 0s 18ms/step - loss: 0.1662 - accuracy: 0.9900 - val_loss: 0.1787 - val_accuracy: 0.9757\n",
      "Epoch 15/20\n",
      "7/7 [==============================] - 0s 21ms/step - loss: 0.1563 - accuracy: 0.9900 - val_loss: 0.1699 - val_accuracy: 0.9767\n",
      "Epoch 16/20\n",
      "7/7 [==============================] - 0s 18ms/step - loss: 0.1474 - accuracy: 0.9900 - val_loss: 0.1621 - val_accuracy: 0.9787\n",
      "Epoch 17/20\n",
      "7/7 [==============================] - 0s 18ms/step - loss: 0.1397 - accuracy: 0.9900 - val_loss: 0.1550 - val_accuracy: 0.9787\n",
      "Epoch 18/20\n",
      "7/7 [==============================] - 0s 31ms/step - loss: 0.1329 - accuracy: 0.9900 - val_loss: 0.1486 - val_accuracy: 0.9797\n",
      "Epoch 19/20\n",
      "7/7 [==============================] - 0s 30ms/step - loss: 0.1261 - accuracy: 0.9900 - val_loss: 0.1427 - val_accuracy: 0.9797\n",
      "Epoch 20/20\n",
      "7/7 [==============================] - 0s 19ms/step - loss: 0.1203 - accuracy: 0.9900 - val_loss: 0.1373 - val_accuracy: 0.9797\n"
     ]
    }
   ],
   "source": [
    "history = model_B.fit(\n",
    "    X_train_B, y_train_B, epochs=20, validation_data=(X_valid_B, y_valid_B)\n",
    ")\n"
   ]
  },
  {
   "cell_type": "code",
   "execution_count": 61,
   "metadata": {},
   "outputs": [
    {
     "name": "stdout",
     "output_type": "stream",
     "text": [
      "Model: \"sequential_5\"\n",
      "_________________________________________________________________\n",
      " Layer (type)                Output Shape              Param #   \n",
      "=================================================================\n",
      " flatten_5 (Flatten)         (None, 784)               0         \n",
      "                                                                 \n",
      " dense_20 (Dense)            (None, 300)               235500    \n",
      "                                                                 \n",
      " dense_21 (Dense)            (None, 100)               30100     \n",
      "                                                                 \n",
      " dense_22 (Dense)            (None, 50)                5050      \n",
      "                                                                 \n",
      " dense_23 (Dense)            (None, 50)                2550      \n",
      "                                                                 \n",
      " dense_24 (Dense)            (None, 50)                2550      \n",
      "                                                                 \n",
      " dense_25 (Dense)            (None, 1)                 51        \n",
      "                                                                 \n",
      "=================================================================\n",
      "Total params: 275,801\n",
      "Trainable params: 275,801\n",
      "Non-trainable params: 0\n",
      "_________________________________________________________________\n"
     ]
    }
   ],
   "source": [
    "model_B.summary()"
   ]
  },
  {
   "cell_type": "code",
   "execution_count": 62,
   "metadata": {},
   "outputs": [],
   "source": [
    "model_A = keras.models.load_model(\"./models/my_model_A.h5\")\n",
    "model_B_on_A = keras.models.Sequential(model_A.layers[:-1])\n",
    "model_B_on_A.add(keras.layers.Dense(1, activation=\"sigmoid\"))"
   ]
  },
  {
   "cell_type": "code",
   "execution_count": 63,
   "metadata": {},
   "outputs": [],
   "source": [
    "model_A_clone = keras.models.clone_model(model_A)\n",
    "model_A_clone.set_weights(model_A.get_weights())\n",
    "\n",
    "model_B_on_A = keras.models.Sequential(model_A_clone.layers[:-1])\n",
    "model_B_on_A.add(keras.layers.Dense(1, activation=\"sigmoid\"))\n"
   ]
  },
  {
   "cell_type": "code",
   "execution_count": 65,
   "metadata": {},
   "outputs": [],
   "source": [
    "# Do not train the parameters of the model_A\n",
    "for layer in model_B_on_A.layers[:-1]:\n",
    "    layer.trainable = False\n",
    "\n",
    "# The model must be compiled/re-compiled after freezing/unfreezing the layers\n",
    "model_B_on_A.compile(\n",
    "    loss=\"binary_crossentropy\",\n",
    "    optimizer=keras.optimizers.SGD(learning_rate=1e-3),\n",
    "    metrics=[\"accuracy\"],\n",
    ")\n"
   ]
  },
  {
   "cell_type": "code",
   "execution_count": 69,
   "metadata": {},
   "outputs": [
    {
     "name": "stdout",
     "output_type": "stream",
     "text": [
      "Epoch 1/4\n",
      "7/7 [==============================] - 0s 17ms/step - loss: 0.2953 - accuracy: 0.9400 - val_loss: 0.2921 - val_accuracy: 0.9422\n",
      "Epoch 2/4\n",
      "7/7 [==============================] - 0s 13ms/step - loss: 0.2590 - accuracy: 0.9550 - val_loss: 0.2621 - val_accuracy: 0.9493\n",
      "Epoch 3/4\n",
      "7/7 [==============================] - 0s 13ms/step - loss: 0.2302 - accuracy: 0.9650 - val_loss: 0.2383 - val_accuracy: 0.9554\n",
      "Epoch 4/4\n",
      "7/7 [==============================] - 0s 14ms/step - loss: 0.2080 - accuracy: 0.9850 - val_loss: 0.2176 - val_accuracy: 0.9615\n",
      "Epoch 1/16\n",
      "7/7 [==============================] - 1s 30ms/step - loss: 0.1882 - accuracy: 0.9850 - val_loss: 0.2015 - val_accuracy: 0.9686\n",
      "Epoch 2/16\n",
      "7/7 [==============================] - 0s 14ms/step - loss: 0.1725 - accuracy: 0.9850 - val_loss: 0.1876 - val_accuracy: 0.9746\n",
      "Epoch 3/16\n",
      "7/7 [==============================] - 0s 14ms/step - loss: 0.1592 - accuracy: 0.9850 - val_loss: 0.1757 - val_accuracy: 0.9797\n",
      "Epoch 4/16\n",
      "7/7 [==============================] - 0s 13ms/step - loss: 0.1483 - accuracy: 0.9850 - val_loss: 0.1647 - val_accuracy: 0.9807\n",
      "Epoch 5/16\n",
      "7/7 [==============================] - 0s 17ms/step - loss: 0.1378 - accuracy: 0.9850 - val_loss: 0.1557 - val_accuracy: 0.9797\n",
      "Epoch 6/16\n",
      "7/7 [==============================] - 0s 13ms/step - loss: 0.1290 - accuracy: 0.9850 - val_loss: 0.1479 - val_accuracy: 0.9807\n",
      "Epoch 7/16\n",
      "7/7 [==============================] - 0s 13ms/step - loss: 0.1215 - accuracy: 0.9850 - val_loss: 0.1417 - val_accuracy: 0.9807\n",
      "Epoch 8/16\n",
      "7/7 [==============================] - 0s 15ms/step - loss: 0.1146 - accuracy: 0.9850 - val_loss: 0.1351 - val_accuracy: 0.9828\n",
      "Epoch 9/16\n",
      "7/7 [==============================] - 0s 12ms/step - loss: 0.1085 - accuracy: 0.9850 - val_loss: 0.1287 - val_accuracy: 0.9848\n",
      "Epoch 10/16\n",
      "7/7 [==============================] - 0s 13ms/step - loss: 0.1029 - accuracy: 0.9850 - val_loss: 0.1239 - val_accuracy: 0.9858\n",
      "Epoch 11/16\n",
      "7/7 [==============================] - 0s 13ms/step - loss: 0.0981 - accuracy: 0.9850 - val_loss: 0.1194 - val_accuracy: 0.9858\n",
      "Epoch 12/16\n",
      "7/7 [==============================] - 0s 12ms/step - loss: 0.0934 - accuracy: 0.9850 - val_loss: 0.1151 - val_accuracy: 0.9858\n",
      "Epoch 13/16\n",
      "7/7 [==============================] - 0s 12ms/step - loss: 0.0891 - accuracy: 0.9900 - val_loss: 0.1114 - val_accuracy: 0.9858\n",
      "Epoch 14/16\n",
      "7/7 [==============================] - 0s 12ms/step - loss: 0.0854 - accuracy: 0.9950 - val_loss: 0.1083 - val_accuracy: 0.9858\n",
      "Epoch 15/16\n",
      "7/7 [==============================] - 0s 13ms/step - loss: 0.0817 - accuracy: 0.9950 - val_loss: 0.1048 - val_accuracy: 0.9858\n",
      "Epoch 16/16\n",
      "7/7 [==============================] - 0s 13ms/step - loss: 0.0786 - accuracy: 0.9950 - val_loss: 0.1017 - val_accuracy: 0.9858\n"
     ]
    }
   ],
   "source": [
    "# Totally use 20 epochs! The reused layers are freezed for the first 4 epochs!\n",
    "\n",
    "history = model_B_on_A.fit(\n",
    "    X_train_B, y_train_B, epochs=4, validation_data=(X_valid_B, y_valid_B)\n",
    ")\n",
    "\n",
    "for layer in model_B_on_A.layers[:-1]:\n",
    "    layer.trainable = True\n",
    "\n",
    "# Re-compile the model to unfreeze the reused layers!\n",
    "\n",
    "model_B_on_A.compile(\n",
    "    loss=\"binary_crossentropy\",\n",
    "    optimizer=keras.optimizers.SGD(learning_rate=1e-3),\n",
    "    metrics=[\"accuracy\"],\n",
    ")\n",
    "history = model_B_on_A.fit(\n",
    "    X_train_B, y_train_B, epochs=16, validation_data=(X_valid_B, y_valid_B)\n",
    ")\n"
   ]
  },
  {
   "cell_type": "code",
   "execution_count": 70,
   "metadata": {},
   "outputs": [
    {
     "name": "stdout",
     "output_type": "stream",
     "text": [
      "63/63 [==============================] - 0s 2ms/step - loss: 0.1337 - accuracy: 0.9825\n"
     ]
    },
    {
     "data": {
      "text/plain": [
       "[0.13373036682605743, 0.9825000166893005]"
      ]
     },
     "execution_count": 70,
     "metadata": {},
     "output_type": "execute_result"
    }
   ],
   "source": [
    "model_B.evaluate(X_test_B, y_test_B)"
   ]
  },
  {
   "cell_type": "code",
   "execution_count": 71,
   "metadata": {},
   "outputs": [
    {
     "name": "stdout",
     "output_type": "stream",
     "text": [
      "63/63 [==============================] - 0s 2ms/step - loss: 0.0958 - accuracy: 0.9915\n"
     ]
    },
    {
     "data": {
      "text/plain": [
       "[0.09580998867750168, 0.9915000200271606]"
      ]
     },
     "execution_count": 71,
     "metadata": {},
     "output_type": "execute_result"
    }
   ],
   "source": [
    "model_B_on_A.evaluate(X_test_B, y_test_B)"
   ]
  },
  {
   "cell_type": "code",
   "execution_count": 72,
   "metadata": {},
   "outputs": [
    {
     "name": "stdout",
     "output_type": "stream",
     "text": [
      "2.0588235294117783\n"
     ]
    }
   ],
   "source": [
    "ret = (100 - 98.25) / (100 - 99.15)\n",
    "print(ret)"
   ]
  },
  {
   "cell_type": "markdown",
   "metadata": {},
   "source": [
    "## Faster Optimizers"
   ]
  },
  {
   "cell_type": "markdown",
   "metadata": {},
   "source": [
    "### Momentum Optimization"
   ]
  },
  {
   "cell_type": "code",
   "execution_count": 74,
   "metadata": {},
   "outputs": [],
   "source": [
    "optimizer = keras.optimizers.SGD(learning_rate=1e-3, momentum=0.9)\n"
   ]
  },
  {
   "cell_type": "markdown",
   "metadata": {},
   "source": [
    "### Nested Accelerated Gradient"
   ]
  },
  {
   "cell_type": "code",
   "execution_count": 75,
   "metadata": {},
   "outputs": [],
   "source": [
    "optimizer = keras.optimizers.SGD(learning_rate=0.001, momentum=0.9, nesterov=True)\n"
   ]
  },
  {
   "cell_type": "markdown",
   "metadata": {},
   "source": [
    "### AdaGrad"
   ]
  },
  {
   "cell_type": "code",
   "execution_count": 76,
   "metadata": {},
   "outputs": [],
   "source": [
    "optimizer = keras.optimizers.Adagrad(learning_rate=0.001)\n"
   ]
  },
  {
   "cell_type": "markdown",
   "metadata": {},
   "source": [
    "## Learning Rate Scheduling"
   ]
  },
  {
   "cell_type": "markdown",
   "metadata": {},
   "source": [
    "### Power Scheduling"
   ]
  },
  {
   "cell_type": "code",
   "execution_count": 78,
   "metadata": {},
   "outputs": [],
   "source": [
    "optimizer = keras.optimizers.SGD(learning_rate=0.01, decay=1e-4)\n"
   ]
  },
  {
   "cell_type": "code",
   "execution_count": 80,
   "metadata": {},
   "outputs": [],
   "source": [
    "model = keras.models.Sequential(\n",
    "    [\n",
    "        keras.layers.Flatten(input_shape=[28, 28]),\n",
    "        keras.layers.Dense(300, activation=\"selu\", kernel_initializer=\"lecun_normal\"),\n",
    "        keras.layers.Dense(100, activation=\"selu\", kernel_initializer=\"lecun_normal\"),\n",
    "        keras.layers.Dense(10, activation=\"softmax\"),\n",
    "    ]\n",
    ")\n",
    "\n",
    "model.compile(\n",
    "    loss=\"sparse_categorical_crossentropy\", optimizer=optimizer, metrics=[\"accuracy\"]\n",
    ")\n"
   ]
  },
  {
   "cell_type": "code",
   "execution_count": 82,
   "metadata": {},
   "outputs": [
    {
     "name": "stdout",
     "output_type": "stream",
     "text": [
      "Epoch 1/25\n",
      "1719/1719 [==============================] - 4s 2ms/step - loss: 0.4885 - accuracy: 0.8269 - val_loss: 0.4058 - val_accuracy: 0.8622\n",
      "Epoch 2/25\n",
      "1719/1719 [==============================] - 4s 2ms/step - loss: 0.3821 - accuracy: 0.8653 - val_loss: 0.3739 - val_accuracy: 0.8732\n",
      "Epoch 3/25\n",
      "1719/1719 [==============================] - 5s 3ms/step - loss: 0.3494 - accuracy: 0.8762 - val_loss: 0.3755 - val_accuracy: 0.8698\n",
      "Epoch 4/25\n",
      "1719/1719 [==============================] - 4s 2ms/step - loss: 0.3287 - accuracy: 0.8829 - val_loss: 0.3536 - val_accuracy: 0.8762\n",
      "Epoch 5/25\n",
      "1719/1719 [==============================] - 4s 2ms/step - loss: 0.3139 - accuracy: 0.8874 - val_loss: 0.3457 - val_accuracy: 0.8774\n",
      "Epoch 6/25\n",
      "1719/1719 [==============================] - 5s 3ms/step - loss: 0.3004 - accuracy: 0.8925 - val_loss: 0.3463 - val_accuracy: 0.8808\n",
      "Epoch 7/25\n",
      "1719/1719 [==============================] - 4s 2ms/step - loss: 0.2908 - accuracy: 0.8963 - val_loss: 0.3400 - val_accuracy: 0.8816\n",
      "Epoch 8/25\n",
      "1719/1719 [==============================] - 6s 3ms/step - loss: 0.2820 - accuracy: 0.8997 - val_loss: 0.3422 - val_accuracy: 0.8814\n",
      "Epoch 9/25\n",
      "1719/1719 [==============================] - 5s 3ms/step - loss: 0.2742 - accuracy: 0.9015 - val_loss: 0.3314 - val_accuracy: 0.8816\n",
      "Epoch 10/25\n",
      "1719/1719 [==============================] - 5s 3ms/step - loss: 0.2672 - accuracy: 0.9040 - val_loss: 0.3281 - val_accuracy: 0.8822\n",
      "Epoch 11/25\n",
      "1719/1719 [==============================] - 3s 2ms/step - loss: 0.2615 - accuracy: 0.9063 - val_loss: 0.3300 - val_accuracy: 0.8832\n",
      "Epoch 12/25\n",
      "1719/1719 [==============================] - 4s 2ms/step - loss: 0.2557 - accuracy: 0.9092 - val_loss: 0.3358 - val_accuracy: 0.8794\n",
      "Epoch 13/25\n",
      "1719/1719 [==============================] - 3s 2ms/step - loss: 0.2503 - accuracy: 0.9117 - val_loss: 0.3290 - val_accuracy: 0.8874\n",
      "Epoch 14/25\n",
      "1719/1719 [==============================] - 4s 2ms/step - loss: 0.2464 - accuracy: 0.9127 - val_loss: 0.3300 - val_accuracy: 0.8844\n",
      "Epoch 15/25\n",
      "1719/1719 [==============================] - 3s 2ms/step - loss: 0.2415 - accuracy: 0.9146 - val_loss: 0.3250 - val_accuracy: 0.8854\n",
      "Epoch 16/25\n",
      "1719/1719 [==============================] - 5s 3ms/step - loss: 0.2377 - accuracy: 0.9162 - val_loss: 0.3227 - val_accuracy: 0.8860\n",
      "Epoch 17/25\n",
      "1719/1719 [==============================] - 5s 3ms/step - loss: 0.2340 - accuracy: 0.9175 - val_loss: 0.3251 - val_accuracy: 0.8856\n",
      "Epoch 18/25\n",
      "1719/1719 [==============================] - 4s 2ms/step - loss: 0.2303 - accuracy: 0.9190 - val_loss: 0.3209 - val_accuracy: 0.8880\n",
      "Epoch 19/25\n",
      "1719/1719 [==============================] - 4s 2ms/step - loss: 0.2270 - accuracy: 0.9203 - val_loss: 0.3251 - val_accuracy: 0.8860\n",
      "Epoch 20/25\n",
      "1719/1719 [==============================] - 4s 3ms/step - loss: 0.2238 - accuracy: 0.9221 - val_loss: 0.3213 - val_accuracy: 0.8882\n",
      "Epoch 21/25\n",
      "1719/1719 [==============================] - 4s 3ms/step - loss: 0.2203 - accuracy: 0.9232 - val_loss: 0.3222 - val_accuracy: 0.8896\n",
      "Epoch 22/25\n",
      "1719/1719 [==============================] - 4s 2ms/step - loss: 0.2178 - accuracy: 0.9240 - val_loss: 0.3199 - val_accuracy: 0.8890\n",
      "Epoch 23/25\n",
      "1719/1719 [==============================] - 4s 3ms/step - loss: 0.2150 - accuracy: 0.9249 - val_loss: 0.3220 - val_accuracy: 0.8888\n",
      "Epoch 24/25\n",
      "1719/1719 [==============================] - 4s 2ms/step - loss: 0.2122 - accuracy: 0.9269 - val_loss: 0.3219 - val_accuracy: 0.8884\n",
      "Epoch 25/25\n",
      "1719/1719 [==============================] - 5s 3ms/step - loss: 0.2101 - accuracy: 0.9270 - val_loss: 0.3213 - val_accuracy: 0.8902\n"
     ]
    }
   ],
   "source": [
    "pixel_means = X_train.mean(axis=0, keepdims=True)\n",
    "pixel_stds = X_train.std(axis=0, keepdims=True)\n",
    "X_train_scaled = (X_train - pixel_means) / pixel_stds\n",
    "X_valid_scaled = (X_valid - pixel_means) / pixel_stds\n",
    "X_test_scaled = (X_test - pixel_means) / pixel_stds\n",
    "\n",
    "n_epochs = 25\n",
    "\n",
    "history = model.fit(\n",
    "    X_train_scaled, y_train, epochs=n_epochs, validation_data=(X_valid_scaled, y_valid)\n",
    ")\n"
   ]
  },
  {
   "cell_type": "code",
   "execution_count": 86,
   "metadata": {},
   "outputs": [
    {
     "data": {
      "image/png": "[encoded data removed]",
      "text/plain": [
       "<Figure size 432x288 with 1 Axes>"
      ]
     },
     "metadata": {
      "needs_background": "light"
     },
     "output_type": "display_data"
    }
   ],
   "source": [
    "import math\n",
    "\n",
    "learning_rate = 0.01\n",
    "decay = 1e-4\n",
    "batch_size = 32\n",
    "\n",
    "n_steps_per_epoch = math.ceil(len(X_train) / batch_size)\n",
    "epochs = np.arange(n_epochs)\n",
    "lrs = learning_rate / (1 + decay * epochs * n_steps_per_epoch)\n",
    "\n",
    "plt.plot(epochs, lrs, \"o-\")\n",
    "\n",
    "plt.xlabel(\"Epoch\")\n",
    "plt.ylabel(\"Learning Rate\")\n",
    "plt.grid()\n",
    "plt.show()\n"
   ]
  },
  {
   "cell_type": "markdown",
   "metadata": {},
   "source": [
    "### Performance Scheduling"
   ]
  },
  {
   "cell_type": "code",
   "execution_count": 87,
   "metadata": {},
   "outputs": [],
   "source": [
    "tf.random.set_seed(42)\n",
    "np.random.seed(42)"
   ]
  },
  {
   "cell_type": "code",
   "execution_count": 88,
   "metadata": {},
   "outputs": [
    {
     "name": "stdout",
     "output_type": "stream",
     "text": [
      "Epoch 1/25\n",
      "1719/1719 [==============================] - 4s 2ms/step - loss: 0.5900 - accuracy: 0.8070 - val_loss: 0.4986 - val_accuracy: 0.8528 - lr: 0.0200\n",
      "Epoch 2/25\n",
      "1719/1719 [==============================] - 3s 2ms/step - loss: 0.5007 - accuracy: 0.8379 - val_loss: 0.5817 - val_accuracy: 0.8376 - lr: 0.0200\n",
      "Epoch 3/25\n",
      "1719/1719 [==============================] - 3s 2ms/step - loss: 0.5140 - accuracy: 0.8413 - val_loss: 0.5169 - val_accuracy: 0.8544 - lr: 0.0200\n",
      "Epoch 4/25\n",
      "1719/1719 [==============================] - 3s 2ms/step - loss: 0.5163 - accuracy: 0.8470 - val_loss: 0.4977 - val_accuracy: 0.8528 - lr: 0.0200\n",
      "Epoch 5/25\n",
      "1719/1719 [==============================] - 3s 2ms/step - loss: 0.5228 - accuracy: 0.8495 - val_loss: 0.5352 - val_accuracy: 0.8482 - lr: 0.0200\n",
      "Epoch 6/25\n",
      "1719/1719 [==============================] - 3s 2ms/step - loss: 0.5214 - accuracy: 0.8515 - val_loss: 0.5244 - val_accuracy: 0.8578 - lr: 0.0200\n",
      "Epoch 7/25\n",
      "1719/1719 [==============================] - 3s 2ms/step - loss: 0.5098 - accuracy: 0.8531 - val_loss: 0.5700 - val_accuracy: 0.8458 - lr: 0.0200\n",
      "Epoch 8/25\n",
      "1719/1719 [==============================] - 3s 2ms/step - loss: 0.4907 - accuracy: 0.8616 - val_loss: 0.5715 - val_accuracy: 0.8388 - lr: 0.0200\n",
      "Epoch 9/25\n",
      "1719/1719 [==============================] - 3s 2ms/step - loss: 0.5385 - accuracy: 0.8541 - val_loss: 0.7542 - val_accuracy: 0.8106 - lr: 0.0200\n",
      "Epoch 10/25\n",
      "1719/1719 [==============================] - 3s 2ms/step - loss: 0.3002 - accuracy: 0.8982 - val_loss: 0.4174 - val_accuracy: 0.8856 - lr: 0.0100\n",
      "Epoch 11/25\n",
      "1719/1719 [==============================] - 3s 2ms/step - loss: 0.2476 - accuracy: 0.9100 - val_loss: 0.4020 - val_accuracy: 0.8876 - lr: 0.0100\n",
      "Epoch 12/25\n",
      "1719/1719 [==============================] - 3s 2ms/step - loss: 0.2291 - accuracy: 0.9171 - val_loss: 0.4435 - val_accuracy: 0.8772 - lr: 0.0100\n",
      "Epoch 13/25\n",
      "1719/1719 [==============================] - 3s 2ms/step - loss: 0.2139 - accuracy: 0.9220 - val_loss: 0.4296 - val_accuracy: 0.8836 - lr: 0.0100\n",
      "Epoch 14/25\n",
      "1719/1719 [==============================] - 3s 2ms/step - loss: 0.1999 - accuracy: 0.9259 - val_loss: 0.4808 - val_accuracy: 0.8780 - lr: 0.0100\n",
      "Epoch 15/25\n",
      "1719/1719 [==============================] - 3s 2ms/step - loss: 0.1939 - accuracy: 0.9295 - val_loss: 0.4555 - val_accuracy: 0.8832 - lr: 0.0100\n",
      "Epoch 16/25\n",
      "1719/1719 [==============================] - 3s 2ms/step - loss: 0.1793 - accuracy: 0.9341 - val_loss: 0.4738 - val_accuracy: 0.8820 - lr: 0.0100\n",
      "Epoch 17/25\n",
      "1719/1719 [==============================] - 3s 2ms/step - loss: 0.1254 - accuracy: 0.9510 - val_loss: 0.4616 - val_accuracy: 0.8914 - lr: 0.0050\n",
      "Epoch 18/25\n",
      "1719/1719 [==============================] - 3s 2ms/step - loss: 0.1110 - accuracy: 0.9564 - val_loss: 0.4861 - val_accuracy: 0.8878 - lr: 0.0050\n",
      "Epoch 19/25\n",
      "1719/1719 [==============================] - 3s 2ms/step - loss: 0.1049 - accuracy: 0.9589 - val_loss: 0.4834 - val_accuracy: 0.8940 - lr: 0.0050\n",
      "Epoch 20/25\n",
      "1719/1719 [==============================] - 3s 2ms/step - loss: 0.0977 - accuracy: 0.9625 - val_loss: 0.4907 - val_accuracy: 0.8944 - lr: 0.0050\n",
      "Epoch 21/25\n",
      "1719/1719 [==============================] - 3s 2ms/step - loss: 0.0912 - accuracy: 0.9649 - val_loss: 0.5459 - val_accuracy: 0.8904 - lr: 0.0050\n",
      "Epoch 22/25\n",
      "1719/1719 [==============================] - 3s 2ms/step - loss: 0.0717 - accuracy: 0.9739 - val_loss: 0.5228 - val_accuracy: 0.8946 - lr: 0.0025\n",
      "Epoch 23/25\n",
      "1719/1719 [==============================] - 3s 2ms/step - loss: 0.0652 - accuracy: 0.9760 - val_loss: 0.5284 - val_accuracy: 0.8928 - lr: 0.0025\n",
      "Epoch 24/25\n",
      "1719/1719 [==============================] - 3s 2ms/step - loss: 0.0620 - accuracy: 0.9776 - val_loss: 0.5549 - val_accuracy: 0.8932 - lr: 0.0025\n",
      "Epoch 25/25\n",
      "1719/1719 [==============================] - 3s 2ms/step - loss: 0.0590 - accuracy: 0.9782 - val_loss: 0.5612 - val_accuracy: 0.8902 - lr: 0.0025\n"
     ]
    }
   ],
   "source": [
    "lr_scheduler = keras.callbacks.ReduceLROnPlateau(factor=0.5, patience=5)\n",
    "\n",
    "model = keras.models.Sequential(\n",
    "    [\n",
    "        keras.layers.Flatten(input_shape=[28, 28]),\n",
    "        keras.layers.Dense(300, activation=\"selu\", kernel_initializer=\"lecun_normal\"),\n",
    "        keras.layers.Dense(100, activation=\"selu\", kernel_initializer=\"lecun_normal\"),\n",
    "        keras.layers.Dense(10, activation=\"softmax\"),\n",
    "    ]\n",
    ")\n",
    "\n",
    "optimizer = keras.optimizers.SGD(learning_rate=0.02, momentum=0.9)\n",
    "model.compile(\n",
    "    loss=\"sparse_categorical_crossentropy\", optimizer=optimizer, metrics=[\"accuracy\"]\n",
    ")\n",
    "n_epochs = 25\n",
    "history = model.fit(\n",
    "    X_train_scaled,\n",
    "    y_train,\n",
    "    epochs=n_epochs,\n",
    "    validation_data=(X_valid_scaled, y_valid),\n",
    "    callbacks=[lr_scheduler],\n",
    ")\n"
   ]
  },
  {
   "cell_type": "code",
   "execution_count": 89,
   "metadata": {},
   "outputs": [
    {
     "data": {
      "image/png": "[encoded data removed]",
      "text/plain": [
       "<Figure size 432x288 with 2 Axes>"
      ]
     },
     "metadata": {
      "needs_background": "light"
     },
     "output_type": "display_data"
    }
   ],
   "source": [
    "plt.plot(history.epoch, history.history[\"lr\"], \"bo-\")\n",
    "plt.xlabel(\"Epoch\")\n",
    "plt.ylabel(\"Learning Rate\", color=\"b\")\n",
    "plt.tick_params(\"y\", colors=\"b\")\n",
    "plt.gca().set_xlim(0, n_epochs - 1)\n",
    "plt.grid(True)\n",
    "\n",
    "ax2 = plt.gca().twinx()\n",
    "ax2.plot(history.epoch, history.history[\"val_loss\"], \"r^-\")\n",
    "ax2.set_ylabel(\"Validation Loss\", color=\"r\")\n",
    "ax2.tick_params(\"y\", colors=\"r\")\n",
    "\n",
    "plt.title(\"Reduce LR on Plateau\", fontsize=14)\n",
    "plt.show()\n"
   ]
  },
  {
   "cell_type": "markdown",
   "metadata": {},
   "source": [
    "## Avoid Overfitting Through Regulation"
   ]
  },
  {
   "cell_type": "code",
   "execution_count": null,
   "metadata": {},
   "outputs": [],
   "source": [
    "from functools import partial\n",
    "\n",
    "RegularizedDense = partial(\n",
    "    keras.layers.Dense,\n",
    "    activation=\"elu\",\n",
    "    kernel_initializer=\"he_normal\",\n",
    "    kernel_regularizer=keras.regularizers.l2(0.01),\n",
    ")\n",
    "\n",
    "model = keras.models.Sequential(\n",
    "    [\n",
    "        keras.layers.Flatten(input_shape=[28, 28]),\n",
    "        RegularizedDense(300),\n",
    "        RegularizedDense(100),\n",
    "        RegularizedDense(10, activation=\"softmax\"),\n",
    "    ]\n",
    ")\n",
    "\n",
    "model.compile(loss=\"sparse_categorical_crossentropy\", optimizer=\"nadam\", metrics=[\"accuracy\"])\n",
    "n_epochs = 2\n",
    "history = model.fit(X_train_scaled, y_train, epochs=n_epochs, validation_data=(X_valid_scaled, y_valid))"
   ]
  }
 ],
 "metadata": {
  "interpreter": {
   "hash": "e7370f93d1d0cde622a1f8e1c04877d8463912d04d973331ad4851f04de6915a"
  },
  "kernelspec": {
   "display_name": "Python 3.10.2 64-bit",
   "language": "python",
   "name": "python3"
  },
  "language_info": {
   "codemirror_mode": {
    "name": "ipython",
    "version": 3
   },
   "file_extension": ".py",
   "mimetype": "text/x-python",
   "name": "python",
   "nbconvert_exporter": "python",
   "pygments_lexer": "ipython3",
   "version": "3.10.2"
  },
  "orig_nbformat": 4
 },
 "nbformat": 4,
 "nbformat_minor": 2
}
